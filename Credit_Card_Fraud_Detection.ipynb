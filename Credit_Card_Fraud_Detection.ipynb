{
  "nbformat": 4,
  "nbformat_minor": 0,
  "metadata": {
    "colab": {
      "name": "Credit Card Fraud Detection.ipynb",
      "provenance": [],
      "collapsed_sections": [
        "zSGyg6kWsBUl",
        "vTbdjSrhVIiT",
        "lQ2G4ZPDVOXE",
        "xrmHVMVsVS--",
        "HPQviDmNtta8",
        "qjFHK1CKty7o",
        "HSsicSdvt4Zs"
      ],
      "toc_visible": true,
      "include_colab_link": true
    },
    "kernelspec": {
      "name": "python3",
      "display_name": "Python 3"
    }
  },
  "cells": [
    {
      "cell_type": "markdown",
      "metadata": {
        "id": "view-in-github",
        "colab_type": "text"
      },
      "source": [
        "<a href=\"https://colab.research.google.com/github/lydiandiba/Credit-card-Fraud-detection./blob/master/Credit_Card_Fraud_Detection.ipynb\" target=\"_parent\"><img src=\"https://colab.research.google.com/assets/colab-badge.svg\" alt=\"Open In Colab\"/></a>"
      ]
    },
    {
      "cell_type": "markdown",
      "metadata": {
        "id": "1qqgL4FTCh_2",
        "colab_type": "text"
      },
      "source": [
        "<font color=\"green\">*To start working on this notebook, or any other notebook that we will use in the Moringa Data Science Course, we will need to save our own copy of it. We can do this by clicking File > Save a Copy in Drive. We will then be able to make edits to our own copy of this notebook.*</font>"
      ]
    },
    {
      "cell_type": "markdown",
      "metadata": {
        "id": "xMxtPsqcTsSH",
        "colab_type": "text"
      },
      "source": [
        "# Python Programming: Credit Card Fraud Detection Prediction"
      ]
    },
    {
      "cell_type": "markdown",
      "metadata": {
        "id": "kLG2VTrnTvYL",
        "colab_type": "text"
      },
      "source": [
        "## 1. Defining the Question"
      ]
    },
    {
      "cell_type": "markdown",
      "metadata": {
        "id": "XecOwPNorl2W",
        "colab_type": "text"
      },
      "source": [
        "### a) Specifying the Data Analytic Question"
      ]
    },
    {
      "cell_type": "markdown",
      "metadata": {
        "id": "9ozBnKfehSAw",
        "colab_type": "text"
      },
      "source": [
        "> It is important that credit card companies are able to recognize fraudulent credit card transactions so that customers are not charged for items that they did not purchase."
      ]
    },
    {
      "cell_type": "markdown",
      "metadata": {
        "id": "J4wfHZwQrs-t",
        "colab_type": "text"
      },
      "source": [
        "### b) Defining the Metric for Success"
      ]
    },
    {
      "cell_type": "markdown",
      "metadata": {
        "id": "VmQUzzkCZkGm",
        "colab_type": "text"
      },
      "source": [
        "Accurate identification of 95% of fraudulent transactions before they are authorized\n",
        "\n",
        "Precision metric. Proposed as response label is imbalanced"
      ]
    },
    {
      "cell_type": "markdown",
      "metadata": {
        "id": "a9BPYqunry97",
        "colab_type": "text"
      },
      "source": [
        "### c) Understanding the context "
      ]
    },
    {
      "cell_type": "markdown",
      "metadata": {
        "id": "5oPDPvkTZ_cY",
        "colab_type": "text"
      },
      "source": [
        "The datasets contains transactions made by credit cards in September 2013 by european cardholders.\n",
        "This dataset presents transactions that occurred in two days, where we have 492 frauds out of 284807 transactions. The dataset is highly unbalanced, the positive class (frauds) account for 0.172% of all transactions.\n",
        "\n",
        "It contains only numerical input variables which are the result of a PCA transformation. Unfortunately, due to confidentiality issues, we cannot provide the original features and more background information about the data. Features V1, V2, … V28 are the principal components obtained with PCA, the only features which have not been transformed with PCA are 'Time' and 'Amount'. Feature 'Time' contains the seconds elapsed between each transaction and the first transaction in the dataset. The feature 'Amount' is the transaction Amount, this feature can be used for example-dependant cost-senstive learning. Feature 'Class' is the response variable and it takes value 1 in case of fraud and 0 otherwise."
      ]
    },
    {
      "cell_type": "markdown",
      "metadata": {
        "id": "7KMRBJ7zr9HD",
        "colab_type": "text"
      },
      "source": [
        "### d) Recording the Experimental Design"
      ]
    },
    {
      "cell_type": "markdown",
      "metadata": {
        "id": "3bMNm35QcG3S",
        "colab_type": "text"
      },
      "source": [
        "Business understanding - understanding the background\n",
        "\n",
        "Data understanding\n",
        "\n",
        "Exploratory data analysis\n",
        "\n",
        "Feature engineering\n",
        "\n",
        "Data modelling\n",
        "\n",
        "Model interpretation"
      ]
    },
    {
      "cell_type": "markdown",
      "metadata": {
        "id": "zSGyg6kWsBUl",
        "colab_type": "text"
      },
      "source": [
        "### e) Data Relevance\n",
        "\n",
        "#### Risks\n",
        "Lack of acceptance of the model by business team due to lack of explainability in detection logic.\n",
        "\n",
        "Mitigation: To give cost savings benefits will outweigh explainability risk.\n",
        "#### Constraints\n",
        "Due to confidentiality, original features and more background information about the data are not provided\n",
        "\n",
        "Insufficient data - only 2 days of fraud\n",
        "\n",
        "Outdated data - collected in 2013.\n",
        "#### Assumptions\n",
        "Currency is in euros\n",
        "\n",
        "Data is valid\n"
      ]
    },
    {
      "cell_type": "markdown",
      "metadata": {
        "id": "iUNbvIvnT7ep",
        "colab_type": "text"
      },
      "source": [
        "## 2. Reading the Data"
      ]
    },
    {
      "cell_type": "code",
      "metadata": {
        "id": "HiR0ZS1EFcNP",
        "colab_type": "code",
        "colab": {}
      },
      "source": [
        "#Data Manipulation Libraries\n",
        "import numpy as np # linear algebra\n",
        "import pandas as pd # data processing, CSV file I/O (e.g. pd.read_csv)\n",
        "\n",
        "#Visualization\n",
        "import matplotlib.pyplot as plt\n",
        "%matplotlib inline \n",
        "import seaborn as sns\n",
        "\n",
        "#Modelling\n",
        "from sklearn.cluster import KMeans #For creating clusters\n",
        "from sklearn.metrics import confusion_matrix\n",
        "from sklearn.metrics import confusion_matrix, precision_score, recall_score, accuracy_score,f1_score,classification_report\n",
        "from sklearn.model_selection import train_test_split\n",
        "from sklearn.preprocessing import normalize\n",
        "from sklearn.ensemble import IsolationForest\n",
        "from sklearn.neighbors import LocalOutlierFactor\n",
        "\n",
        "import warnings\n",
        "warnings.filterwarnings(\"ignore\")\n"
      ],
      "execution_count": 0,
      "outputs": []
    },
    {
      "cell_type": "code",
      "metadata": {
        "id": "SrZG9KvQvSui",
        "colab_type": "code",
        "colab": {}
      },
      "source": [
        "# Improving visual appearance of graphs\n",
        "sns.set(rc={'figure.figsize':(13, 10)})\n",
        "\n",
        "# Ensure all columns are displayed\n",
        "pd.pandas.set_option('display.max_columns', None)"
      ],
      "execution_count": 0,
      "outputs": []
    },
    {
      "cell_type": "code",
      "metadata": {
        "id": "XJn2KjW-WMlG",
        "colab_type": "code",
        "colab": {}
      },
      "source": [
        "# Loading the Data from the source i.e. csv\n",
        "# ---\n",
        "df = pd.read_csv(\"creditcard.csv\")"
      ],
      "execution_count": 0,
      "outputs": []
    },
    {
      "cell_type": "markdown",
      "metadata": {
        "id": "OI3P3YnHUEBk",
        "colab_type": "text"
      },
      "source": [
        "\n",
        "\n",
        "## 3. Checking the Data"
      ]
    },
    {
      "cell_type": "code",
      "metadata": {
        "id": "YjSVNwgptHxY",
        "colab_type": "code",
        "outputId": "f0be21ed-1efc-4158-ce43-b0dab2e3bdf8",
        "colab": {
          "base_uri": "https://localhost:8080/",
          "height": 34
        }
      },
      "source": [
        "# Determining the no. of records in our dataset\n",
        "#\n",
        "df.shape"
      ],
      "execution_count": 0,
      "outputs": [
        {
          "output_type": "execute_result",
          "data": {
            "text/plain": [
              "(39702, 31)"
            ]
          },
          "metadata": {
            "tags": []
          },
          "execution_count": 4
        }
      ]
    },
    {
      "cell_type": "markdown",
      "metadata": {
        "id": "QG4vrjZxF4mj",
        "colab_type": "text"
      },
      "source": [
        "We have 284807 rows and 31 columns in our dataset."
      ]
    },
    {
      "cell_type": "code",
      "metadata": {
        "id": "xHhTw5eKWr0n",
        "colab_type": "code",
        "outputId": "706f1349-63fe-4a51-95e9-ba12c86e3c87",
        "colab": {
          "base_uri": "https://localhost:8080/",
          "height": 217
        }
      },
      "source": [
        "# Previewing the top of our dataset\n",
        "#\n",
        "df.head()"
      ],
      "execution_count": 0,
      "outputs": [
        {
          "output_type": "execute_result",
          "data": {
            "text/html": [
              "<div>\n",
              "<style scoped>\n",
              "    .dataframe tbody tr th:only-of-type {\n",
              "        vertical-align: middle;\n",
              "    }\n",
              "\n",
              "    .dataframe tbody tr th {\n",
              "        vertical-align: top;\n",
              "    }\n",
              "\n",
              "    .dataframe thead th {\n",
              "        text-align: right;\n",
              "    }\n",
              "</style>\n",
              "<table border=\"1\" class=\"dataframe\">\n",
              "  <thead>\n",
              "    <tr style=\"text-align: right;\">\n",
              "      <th></th>\n",
              "      <th>Time</th>\n",
              "      <th>V1</th>\n",
              "      <th>V2</th>\n",
              "      <th>V3</th>\n",
              "      <th>V4</th>\n",
              "      <th>V5</th>\n",
              "      <th>V6</th>\n",
              "      <th>V7</th>\n",
              "      <th>V8</th>\n",
              "      <th>V9</th>\n",
              "      <th>V10</th>\n",
              "      <th>V11</th>\n",
              "      <th>V12</th>\n",
              "      <th>V13</th>\n",
              "      <th>V14</th>\n",
              "      <th>V15</th>\n",
              "      <th>V16</th>\n",
              "      <th>V17</th>\n",
              "      <th>V18</th>\n",
              "      <th>V19</th>\n",
              "      <th>V20</th>\n",
              "      <th>V21</th>\n",
              "      <th>V22</th>\n",
              "      <th>V23</th>\n",
              "      <th>V24</th>\n",
              "      <th>V25</th>\n",
              "      <th>V26</th>\n",
              "      <th>V27</th>\n",
              "      <th>V28</th>\n",
              "      <th>Amount</th>\n",
              "      <th>Class</th>\n",
              "    </tr>\n",
              "  </thead>\n",
              "  <tbody>\n",
              "    <tr>\n",
              "      <th>0</th>\n",
              "      <td>0</td>\n",
              "      <td>-1.359807</td>\n",
              "      <td>-0.072781</td>\n",
              "      <td>2.536347</td>\n",
              "      <td>1.378155</td>\n",
              "      <td>-0.338321</td>\n",
              "      <td>0.462388</td>\n",
              "      <td>0.239599</td>\n",
              "      <td>0.098698</td>\n",
              "      <td>0.363787</td>\n",
              "      <td>0.090794</td>\n",
              "      <td>-0.551600</td>\n",
              "      <td>-0.617801</td>\n",
              "      <td>-0.991390</td>\n",
              "      <td>-0.311169</td>\n",
              "      <td>1.468177</td>\n",
              "      <td>-0.470401</td>\n",
              "      <td>0.207971</td>\n",
              "      <td>0.025791</td>\n",
              "      <td>0.403993</td>\n",
              "      <td>0.251412</td>\n",
              "      <td>-0.018307</td>\n",
              "      <td>0.277838</td>\n",
              "      <td>-0.110474</td>\n",
              "      <td>0.066928</td>\n",
              "      <td>0.128539</td>\n",
              "      <td>-0.189115</td>\n",
              "      <td>0.133558</td>\n",
              "      <td>-0.021053</td>\n",
              "      <td>149.62</td>\n",
              "      <td>0.0</td>\n",
              "    </tr>\n",
              "    <tr>\n",
              "      <th>1</th>\n",
              "      <td>0</td>\n",
              "      <td>1.191857</td>\n",
              "      <td>0.266151</td>\n",
              "      <td>0.166480</td>\n",
              "      <td>0.448154</td>\n",
              "      <td>0.060018</td>\n",
              "      <td>-0.082361</td>\n",
              "      <td>-0.078803</td>\n",
              "      <td>0.085102</td>\n",
              "      <td>-0.255425</td>\n",
              "      <td>-0.166974</td>\n",
              "      <td>1.612727</td>\n",
              "      <td>1.065235</td>\n",
              "      <td>0.489095</td>\n",
              "      <td>-0.143772</td>\n",
              "      <td>0.635558</td>\n",
              "      <td>0.463917</td>\n",
              "      <td>-0.114805</td>\n",
              "      <td>-0.183361</td>\n",
              "      <td>-0.145783</td>\n",
              "      <td>-0.069083</td>\n",
              "      <td>-0.225775</td>\n",
              "      <td>-0.638672</td>\n",
              "      <td>0.101288</td>\n",
              "      <td>-0.339846</td>\n",
              "      <td>0.167170</td>\n",
              "      <td>0.125895</td>\n",
              "      <td>-0.008983</td>\n",
              "      <td>0.014724</td>\n",
              "      <td>2.69</td>\n",
              "      <td>0.0</td>\n",
              "    </tr>\n",
              "    <tr>\n",
              "      <th>2</th>\n",
              "      <td>1</td>\n",
              "      <td>-1.358354</td>\n",
              "      <td>-1.340163</td>\n",
              "      <td>1.773209</td>\n",
              "      <td>0.379780</td>\n",
              "      <td>-0.503198</td>\n",
              "      <td>1.800499</td>\n",
              "      <td>0.791461</td>\n",
              "      <td>0.247676</td>\n",
              "      <td>-1.514654</td>\n",
              "      <td>0.207643</td>\n",
              "      <td>0.624501</td>\n",
              "      <td>0.066084</td>\n",
              "      <td>0.717293</td>\n",
              "      <td>-0.165946</td>\n",
              "      <td>2.345865</td>\n",
              "      <td>-2.890083</td>\n",
              "      <td>1.109969</td>\n",
              "      <td>-0.121359</td>\n",
              "      <td>-2.261857</td>\n",
              "      <td>0.524980</td>\n",
              "      <td>0.247998</td>\n",
              "      <td>0.771679</td>\n",
              "      <td>0.909412</td>\n",
              "      <td>-0.689281</td>\n",
              "      <td>-0.327642</td>\n",
              "      <td>-0.139097</td>\n",
              "      <td>-0.055353</td>\n",
              "      <td>-0.059752</td>\n",
              "      <td>378.66</td>\n",
              "      <td>0.0</td>\n",
              "    </tr>\n",
              "    <tr>\n",
              "      <th>3</th>\n",
              "      <td>1</td>\n",
              "      <td>-0.966272</td>\n",
              "      <td>-0.185226</td>\n",
              "      <td>1.792993</td>\n",
              "      <td>-0.863291</td>\n",
              "      <td>-0.010309</td>\n",
              "      <td>1.247203</td>\n",
              "      <td>0.237609</td>\n",
              "      <td>0.377436</td>\n",
              "      <td>-1.387024</td>\n",
              "      <td>-0.054952</td>\n",
              "      <td>-0.226487</td>\n",
              "      <td>0.178228</td>\n",
              "      <td>0.507757</td>\n",
              "      <td>-0.287924</td>\n",
              "      <td>-0.631418</td>\n",
              "      <td>-1.059647</td>\n",
              "      <td>-0.684093</td>\n",
              "      <td>1.965775</td>\n",
              "      <td>-1.232622</td>\n",
              "      <td>-0.208038</td>\n",
              "      <td>-0.108300</td>\n",
              "      <td>0.005274</td>\n",
              "      <td>-0.190321</td>\n",
              "      <td>-1.175575</td>\n",
              "      <td>0.647376</td>\n",
              "      <td>-0.221929</td>\n",
              "      <td>0.062723</td>\n",
              "      <td>0.061458</td>\n",
              "      <td>123.50</td>\n",
              "      <td>0.0</td>\n",
              "    </tr>\n",
              "    <tr>\n",
              "      <th>4</th>\n",
              "      <td>2</td>\n",
              "      <td>-1.158233</td>\n",
              "      <td>0.877737</td>\n",
              "      <td>1.548718</td>\n",
              "      <td>0.403034</td>\n",
              "      <td>-0.407193</td>\n",
              "      <td>0.095921</td>\n",
              "      <td>0.592941</td>\n",
              "      <td>-0.270533</td>\n",
              "      <td>0.817739</td>\n",
              "      <td>0.753074</td>\n",
              "      <td>-0.822843</td>\n",
              "      <td>0.538196</td>\n",
              "      <td>1.345852</td>\n",
              "      <td>-1.119670</td>\n",
              "      <td>0.175121</td>\n",
              "      <td>-0.451449</td>\n",
              "      <td>-0.237033</td>\n",
              "      <td>-0.038195</td>\n",
              "      <td>0.803487</td>\n",
              "      <td>0.408542</td>\n",
              "      <td>-0.009431</td>\n",
              "      <td>0.798278</td>\n",
              "      <td>-0.137458</td>\n",
              "      <td>0.141267</td>\n",
              "      <td>-0.206010</td>\n",
              "      <td>0.502292</td>\n",
              "      <td>0.219422</td>\n",
              "      <td>0.215153</td>\n",
              "      <td>69.99</td>\n",
              "      <td>0.0</td>\n",
              "    </tr>\n",
              "  </tbody>\n",
              "</table>\n",
              "</div>"
            ],
            "text/plain": [
              "   Time        V1        V2        V3        V4        V5        V6        V7  \\\n",
              "0     0 -1.359807 -0.072781  2.536347  1.378155 -0.338321  0.462388  0.239599   \n",
              "1     0  1.191857  0.266151  0.166480  0.448154  0.060018 -0.082361 -0.078803   \n",
              "2     1 -1.358354 -1.340163  1.773209  0.379780 -0.503198  1.800499  0.791461   \n",
              "3     1 -0.966272 -0.185226  1.792993 -0.863291 -0.010309  1.247203  0.237609   \n",
              "4     2 -1.158233  0.877737  1.548718  0.403034 -0.407193  0.095921  0.592941   \n",
              "\n",
              "         V8        V9       V10       V11       V12       V13       V14  \\\n",
              "0  0.098698  0.363787  0.090794 -0.551600 -0.617801 -0.991390 -0.311169   \n",
              "1  0.085102 -0.255425 -0.166974  1.612727  1.065235  0.489095 -0.143772   \n",
              "2  0.247676 -1.514654  0.207643  0.624501  0.066084  0.717293 -0.165946   \n",
              "3  0.377436 -1.387024 -0.054952 -0.226487  0.178228  0.507757 -0.287924   \n",
              "4 -0.270533  0.817739  0.753074 -0.822843  0.538196  1.345852 -1.119670   \n",
              "\n",
              "        V15       V16       V17       V18       V19       V20       V21  \\\n",
              "0  1.468177 -0.470401  0.207971  0.025791  0.403993  0.251412 -0.018307   \n",
              "1  0.635558  0.463917 -0.114805 -0.183361 -0.145783 -0.069083 -0.225775   \n",
              "2  2.345865 -2.890083  1.109969 -0.121359 -2.261857  0.524980  0.247998   \n",
              "3 -0.631418 -1.059647 -0.684093  1.965775 -1.232622 -0.208038 -0.108300   \n",
              "4  0.175121 -0.451449 -0.237033 -0.038195  0.803487  0.408542 -0.009431   \n",
              "\n",
              "        V22       V23       V24       V25       V26       V27       V28  \\\n",
              "0  0.277838 -0.110474  0.066928  0.128539 -0.189115  0.133558 -0.021053   \n",
              "1 -0.638672  0.101288 -0.339846  0.167170  0.125895 -0.008983  0.014724   \n",
              "2  0.771679  0.909412 -0.689281 -0.327642 -0.139097 -0.055353 -0.059752   \n",
              "3  0.005274 -0.190321 -1.175575  0.647376 -0.221929  0.062723  0.061458   \n",
              "4  0.798278 -0.137458  0.141267 -0.206010  0.502292  0.219422  0.215153   \n",
              "\n",
              "   Amount  Class  \n",
              "0  149.62    0.0  \n",
              "1    2.69    0.0  \n",
              "2  378.66    0.0  \n",
              "3  123.50    0.0  \n",
              "4   69.99    0.0  "
            ]
          },
          "metadata": {
            "tags": []
          },
          "execution_count": 5
        }
      ]
    },
    {
      "cell_type": "code",
      "metadata": {
        "id": "e9AzGcZFrIIr",
        "colab_type": "code",
        "outputId": "1583dc25-301f-4006-b517-1653f8290280",
        "colab": {
          "base_uri": "https://localhost:8080/",
          "height": 217
        }
      },
      "source": [
        "# Previewing the bottom of our dataset\n",
        "# \n",
        "df.tail()"
      ],
      "execution_count": 0,
      "outputs": [
        {
          "output_type": "execute_result",
          "data": {
            "text/html": [
              "<div>\n",
              "<style scoped>\n",
              "    .dataframe tbody tr th:only-of-type {\n",
              "        vertical-align: middle;\n",
              "    }\n",
              "\n",
              "    .dataframe tbody tr th {\n",
              "        vertical-align: top;\n",
              "    }\n",
              "\n",
              "    .dataframe thead th {\n",
              "        text-align: right;\n",
              "    }\n",
              "</style>\n",
              "<table border=\"1\" class=\"dataframe\">\n",
              "  <thead>\n",
              "    <tr style=\"text-align: right;\">\n",
              "      <th></th>\n",
              "      <th>Time</th>\n",
              "      <th>V1</th>\n",
              "      <th>V2</th>\n",
              "      <th>V3</th>\n",
              "      <th>V4</th>\n",
              "      <th>V5</th>\n",
              "      <th>V6</th>\n",
              "      <th>V7</th>\n",
              "      <th>V8</th>\n",
              "      <th>V9</th>\n",
              "      <th>V10</th>\n",
              "      <th>V11</th>\n",
              "      <th>V12</th>\n",
              "      <th>V13</th>\n",
              "      <th>V14</th>\n",
              "      <th>V15</th>\n",
              "      <th>V16</th>\n",
              "      <th>V17</th>\n",
              "      <th>V18</th>\n",
              "      <th>V19</th>\n",
              "      <th>V20</th>\n",
              "      <th>V21</th>\n",
              "      <th>V22</th>\n",
              "      <th>V23</th>\n",
              "      <th>V24</th>\n",
              "      <th>V25</th>\n",
              "      <th>V26</th>\n",
              "      <th>V27</th>\n",
              "      <th>V28</th>\n",
              "      <th>Amount</th>\n",
              "      <th>Class</th>\n",
              "    </tr>\n",
              "  </thead>\n",
              "  <tbody>\n",
              "    <tr>\n",
              "      <th>39697</th>\n",
              "      <td>39927</td>\n",
              "      <td>-1.466679</td>\n",
              "      <td>2.425732</td>\n",
              "      <td>0.877724</td>\n",
              "      <td>3.950765</td>\n",
              "      <td>0.762477</td>\n",
              "      <td>1.162748</td>\n",
              "      <td>0.575625</td>\n",
              "      <td>-0.288354</td>\n",
              "      <td>-1.357990</td>\n",
              "      <td>2.907686</td>\n",
              "      <td>-0.890614</td>\n",
              "      <td>-0.462249</td>\n",
              "      <td>1.291626</td>\n",
              "      <td>-0.392713</td>\n",
              "      <td>1.434131</td>\n",
              "      <td>-0.347514</td>\n",
              "      <td>-0.124999</td>\n",
              "      <td>-0.270457</td>\n",
              "      <td>0.875010</td>\n",
              "      <td>0.129962</td>\n",
              "      <td>0.186051</td>\n",
              "      <td>0.571010</td>\n",
              "      <td>-0.107517</td>\n",
              "      <td>-0.754306</td>\n",
              "      <td>-0.752828</td>\n",
              "      <td>0.113179</td>\n",
              "      <td>-2.079421</td>\n",
              "      <td>-0.809173</td>\n",
              "      <td>1.50</td>\n",
              "      <td>0.0</td>\n",
              "    </tr>\n",
              "    <tr>\n",
              "      <th>39698</th>\n",
              "      <td>39927</td>\n",
              "      <td>-0.523165</td>\n",
              "      <td>-0.100021</td>\n",
              "      <td>0.892966</td>\n",
              "      <td>-1.900405</td>\n",
              "      <td>-0.156870</td>\n",
              "      <td>-0.783894</td>\n",
              "      <td>0.917683</td>\n",
              "      <td>-0.308345</td>\n",
              "      <td>-1.305284</td>\n",
              "      <td>0.514227</td>\n",
              "      <td>0.675557</td>\n",
              "      <td>-1.629259</td>\n",
              "      <td>-2.491738</td>\n",
              "      <td>0.386368</td>\n",
              "      <td>-0.595120</td>\n",
              "      <td>1.352518</td>\n",
              "      <td>-0.228732</td>\n",
              "      <td>-0.936432</td>\n",
              "      <td>0.660506</td>\n",
              "      <td>-0.071640</td>\n",
              "      <td>-0.082504</td>\n",
              "      <td>-0.414677</td>\n",
              "      <td>-0.063392</td>\n",
              "      <td>-0.087455</td>\n",
              "      <td>-0.303383</td>\n",
              "      <td>-0.682889</td>\n",
              "      <td>-0.178417</td>\n",
              "      <td>-0.137169</td>\n",
              "      <td>100.92</td>\n",
              "      <td>0.0</td>\n",
              "    </tr>\n",
              "    <tr>\n",
              "      <th>39699</th>\n",
              "      <td>39928</td>\n",
              "      <td>-2.768425</td>\n",
              "      <td>-1.007072</td>\n",
              "      <td>2.151127</td>\n",
              "      <td>0.117797</td>\n",
              "      <td>1.283178</td>\n",
              "      <td>1.869731</td>\n",
              "      <td>-0.562240</td>\n",
              "      <td>0.820374</td>\n",
              "      <td>0.348797</td>\n",
              "      <td>-0.122472</td>\n",
              "      <td>1.700394</td>\n",
              "      <td>1.375019</td>\n",
              "      <td>0.623614</td>\n",
              "      <td>-0.610102</td>\n",
              "      <td>0.577459</td>\n",
              "      <td>-0.941449</td>\n",
              "      <td>0.571209</td>\n",
              "      <td>-1.502828</td>\n",
              "      <td>-0.785017</td>\n",
              "      <td>-0.491556</td>\n",
              "      <td>-0.182963</td>\n",
              "      <td>0.778210</td>\n",
              "      <td>0.904077</td>\n",
              "      <td>-1.288631</td>\n",
              "      <td>0.212441</td>\n",
              "      <td>0.483975</td>\n",
              "      <td>-0.027614</td>\n",
              "      <td>-0.582813</td>\n",
              "      <td>11.99</td>\n",
              "      <td>0.0</td>\n",
              "    </tr>\n",
              "    <tr>\n",
              "      <th>39700</th>\n",
              "      <td>39928</td>\n",
              "      <td>1.201327</td>\n",
              "      <td>0.158614</td>\n",
              "      <td>-0.325263</td>\n",
              "      <td>0.471667</td>\n",
              "      <td>0.086446</td>\n",
              "      <td>-0.770357</td>\n",
              "      <td>0.422151</td>\n",
              "      <td>-0.205277</td>\n",
              "      <td>-0.451865</td>\n",
              "      <td>0.161808</td>\n",
              "      <td>1.063432</td>\n",
              "      <td>0.650581</td>\n",
              "      <td>-0.207706</td>\n",
              "      <td>0.742138</td>\n",
              "      <td>0.054512</td>\n",
              "      <td>0.176587</td>\n",
              "      <td>-0.598347</td>\n",
              "      <td>0.093661</td>\n",
              "      <td>0.320508</td>\n",
              "      <td>-0.023074</td>\n",
              "      <td>0.027664</td>\n",
              "      <td>-0.018485</td>\n",
              "      <td>-0.199382</td>\n",
              "      <td>0.053605</td>\n",
              "      <td>0.683829</td>\n",
              "      <td>0.428416</td>\n",
              "      <td>-0.077342</td>\n",
              "      <td>-0.006394</td>\n",
              "      <td>45.00</td>\n",
              "      <td>0.0</td>\n",
              "    </tr>\n",
              "    <tr>\n",
              "      <th>39701</th>\n",
              "      <td>39929</td>\n",
              "      <td>1.097669</td>\n",
              "      <td>-1.315782</td>\n",
              "      <td>0.659681</td>\n",
              "      <td>-0.683915</td>\n",
              "      <td>-1.342612</td>\n",
              "      <td>0.332629</td>\n",
              "      <td>-1.110900</td>\n",
              "      <td>0.194811</td>\n",
              "      <td>-0.248825</td>\n",
              "      <td>0.624948</td>\n",
              "      <td>0.324492</td>\n",
              "      <td>-0.279047</td>\n",
              "      <td>NaN</td>\n",
              "      <td>NaN</td>\n",
              "      <td>NaN</td>\n",
              "      <td>NaN</td>\n",
              "      <td>NaN</td>\n",
              "      <td>NaN</td>\n",
              "      <td>NaN</td>\n",
              "      <td>NaN</td>\n",
              "      <td>NaN</td>\n",
              "      <td>NaN</td>\n",
              "      <td>NaN</td>\n",
              "      <td>NaN</td>\n",
              "      <td>NaN</td>\n",
              "      <td>NaN</td>\n",
              "      <td>NaN</td>\n",
              "      <td>NaN</td>\n",
              "      <td>NaN</td>\n",
              "      <td>NaN</td>\n",
              "    </tr>\n",
              "  </tbody>\n",
              "</table>\n",
              "</div>"
            ],
            "text/plain": [
              "        Time        V1        V2        V3        V4        V5        V6  \\\n",
              "39697  39927 -1.466679  2.425732  0.877724  3.950765  0.762477  1.162748   \n",
              "39698  39927 -0.523165 -0.100021  0.892966 -1.900405 -0.156870 -0.783894   \n",
              "39699  39928 -2.768425 -1.007072  2.151127  0.117797  1.283178  1.869731   \n",
              "39700  39928  1.201327  0.158614 -0.325263  0.471667  0.086446 -0.770357   \n",
              "39701  39929  1.097669 -1.315782  0.659681 -0.683915 -1.342612  0.332629   \n",
              "\n",
              "             V7        V8        V9       V10       V11       V12       V13  \\\n",
              "39697  0.575625 -0.288354 -1.357990  2.907686 -0.890614 -0.462249  1.291626   \n",
              "39698  0.917683 -0.308345 -1.305284  0.514227  0.675557 -1.629259 -2.491738   \n",
              "39699 -0.562240  0.820374  0.348797 -0.122472  1.700394  1.375019  0.623614   \n",
              "39700  0.422151 -0.205277 -0.451865  0.161808  1.063432  0.650581 -0.207706   \n",
              "39701 -1.110900  0.194811 -0.248825  0.624948  0.324492 -0.279047       NaN   \n",
              "\n",
              "            V14       V15       V16       V17       V18       V19       V20  \\\n",
              "39697 -0.392713  1.434131 -0.347514 -0.124999 -0.270457  0.875010  0.129962   \n",
              "39698  0.386368 -0.595120  1.352518 -0.228732 -0.936432  0.660506 -0.071640   \n",
              "39699 -0.610102  0.577459 -0.941449  0.571209 -1.502828 -0.785017 -0.491556   \n",
              "39700  0.742138  0.054512  0.176587 -0.598347  0.093661  0.320508 -0.023074   \n",
              "39701       NaN       NaN       NaN       NaN       NaN       NaN       NaN   \n",
              "\n",
              "            V21       V22       V23       V24       V25       V26       V27  \\\n",
              "39697  0.186051  0.571010 -0.107517 -0.754306 -0.752828  0.113179 -2.079421   \n",
              "39698 -0.082504 -0.414677 -0.063392 -0.087455 -0.303383 -0.682889 -0.178417   \n",
              "39699 -0.182963  0.778210  0.904077 -1.288631  0.212441  0.483975 -0.027614   \n",
              "39700  0.027664 -0.018485 -0.199382  0.053605  0.683829  0.428416 -0.077342   \n",
              "39701       NaN       NaN       NaN       NaN       NaN       NaN       NaN   \n",
              "\n",
              "            V28  Amount  Class  \n",
              "39697 -0.809173    1.50    0.0  \n",
              "39698 -0.137169  100.92    0.0  \n",
              "39699 -0.582813   11.99    0.0  \n",
              "39700 -0.006394   45.00    0.0  \n",
              "39701       NaN     NaN    NaN  "
            ]
          },
          "metadata": {
            "tags": []
          },
          "execution_count": 6
        }
      ]
    },
    {
      "cell_type": "code",
      "metadata": {
        "id": "n8-dW4sQWzbc",
        "colab_type": "code",
        "outputId": "e901b6a3-46dc-4db7-deb0-f86269dcc502",
        "colab": {
          "base_uri": "https://localhost:8080/",
          "height": 656
        }
      },
      "source": [
        "# Checking whether each column has an appropriate datatype\n",
        "#\n",
        "df.info()"
      ],
      "execution_count": 0,
      "outputs": [
        {
          "output_type": "stream",
          "text": [
            "<class 'pandas.core.frame.DataFrame'>\n",
            "RangeIndex: 39702 entries, 0 to 39701\n",
            "Data columns (total 31 columns):\n",
            "Time      39702 non-null int64\n",
            "V1        39702 non-null float64\n",
            "V2        39702 non-null float64\n",
            "V3        39702 non-null float64\n",
            "V4        39702 non-null float64\n",
            "V5        39702 non-null float64\n",
            "V6        39702 non-null float64\n",
            "V7        39702 non-null float64\n",
            "V8        39702 non-null float64\n",
            "V9        39702 non-null float64\n",
            "V10       39702 non-null float64\n",
            "V11       39702 non-null float64\n",
            "V12       39702 non-null float64\n",
            "V13       39701 non-null float64\n",
            "V14       39701 non-null float64\n",
            "V15       39701 non-null float64\n",
            "V16       39701 non-null float64\n",
            "V17       39701 non-null float64\n",
            "V18       39701 non-null float64\n",
            "V19       39701 non-null float64\n",
            "V20       39701 non-null float64\n",
            "V21       39701 non-null float64\n",
            "V22       39701 non-null float64\n",
            "V23       39701 non-null float64\n",
            "V24       39701 non-null float64\n",
            "V25       39701 non-null float64\n",
            "V26       39701 non-null float64\n",
            "V27       39701 non-null float64\n",
            "V28       39701 non-null float64\n",
            "Amount    39701 non-null float64\n",
            "Class     39701 non-null float64\n",
            "dtypes: float64(30), int64(1)\n",
            "memory usage: 9.4 MB\n"
          ],
          "name": "stdout"
        }
      ]
    },
    {
      "cell_type": "code",
      "metadata": {
        "id": "lJKUVoRuGvNP",
        "colab_type": "code",
        "outputId": "4b124f3d-1088-4760-d44b-c9eb84bfe953",
        "colab": {
          "base_uri": "https://localhost:8080/",
          "height": 307
        }
      },
      "source": [
        "# data statistical details\n",
        "#\n",
        "df.describe()"
      ],
      "execution_count": 0,
      "outputs": [
        {
          "output_type": "execute_result",
          "data": {
            "text/html": [
              "<div>\n",
              "<style scoped>\n",
              "    .dataframe tbody tr th:only-of-type {\n",
              "        vertical-align: middle;\n",
              "    }\n",
              "\n",
              "    .dataframe tbody tr th {\n",
              "        vertical-align: top;\n",
              "    }\n",
              "\n",
              "    .dataframe thead th {\n",
              "        text-align: right;\n",
              "    }\n",
              "</style>\n",
              "<table border=\"1\" class=\"dataframe\">\n",
              "  <thead>\n",
              "    <tr style=\"text-align: right;\">\n",
              "      <th></th>\n",
              "      <th>Time</th>\n",
              "      <th>V1</th>\n",
              "      <th>V2</th>\n",
              "      <th>V3</th>\n",
              "      <th>V4</th>\n",
              "      <th>V5</th>\n",
              "      <th>V6</th>\n",
              "      <th>V7</th>\n",
              "      <th>V8</th>\n",
              "      <th>V9</th>\n",
              "      <th>V10</th>\n",
              "      <th>V11</th>\n",
              "      <th>V12</th>\n",
              "      <th>V13</th>\n",
              "      <th>V14</th>\n",
              "      <th>V15</th>\n",
              "      <th>V16</th>\n",
              "      <th>V17</th>\n",
              "      <th>V18</th>\n",
              "      <th>V19</th>\n",
              "      <th>V20</th>\n",
              "      <th>V21</th>\n",
              "      <th>V22</th>\n",
              "      <th>V23</th>\n",
              "      <th>V24</th>\n",
              "      <th>V25</th>\n",
              "      <th>V26</th>\n",
              "      <th>V27</th>\n",
              "      <th>V28</th>\n",
              "      <th>Amount</th>\n",
              "      <th>Class</th>\n",
              "    </tr>\n",
              "  </thead>\n",
              "  <tbody>\n",
              "    <tr>\n",
              "      <th>count</th>\n",
              "      <td>39702.000000</td>\n",
              "      <td>39702.000000</td>\n",
              "      <td>39702.000000</td>\n",
              "      <td>39702.000000</td>\n",
              "      <td>39702.000000</td>\n",
              "      <td>39702.000000</td>\n",
              "      <td>39702.000000</td>\n",
              "      <td>39702.000000</td>\n",
              "      <td>39702.000000</td>\n",
              "      <td>39702.000000</td>\n",
              "      <td>39702.000000</td>\n",
              "      <td>39702.000000</td>\n",
              "      <td>39702.000000</td>\n",
              "      <td>39701.000000</td>\n",
              "      <td>39701.000000</td>\n",
              "      <td>39701.000000</td>\n",
              "      <td>39701.000000</td>\n",
              "      <td>39701.000000</td>\n",
              "      <td>39701.000000</td>\n",
              "      <td>39701.000000</td>\n",
              "      <td>39701.000000</td>\n",
              "      <td>39701.000000</td>\n",
              "      <td>39701.000000</td>\n",
              "      <td>39701.000000</td>\n",
              "      <td>39701.000000</td>\n",
              "      <td>39701.000000</td>\n",
              "      <td>39701.000000</td>\n",
              "      <td>39701.000000</td>\n",
              "      <td>39701.000000</td>\n",
              "      <td>39701.000000</td>\n",
              "      <td>39701.000000</td>\n",
              "    </tr>\n",
              "    <tr>\n",
              "      <th>mean</th>\n",
              "      <td>25502.432497</td>\n",
              "      <td>-0.213932</td>\n",
              "      <td>0.051942</td>\n",
              "      <td>0.713780</td>\n",
              "      <td>0.189431</td>\n",
              "      <td>-0.231083</td>\n",
              "      <td>0.100915</td>\n",
              "      <td>-0.112981</td>\n",
              "      <td>0.041731</td>\n",
              "      <td>0.214179</td>\n",
              "      <td>-0.071468</td>\n",
              "      <td>0.422693</td>\n",
              "      <td>-0.466401</td>\n",
              "      <td>0.248167</td>\n",
              "      <td>0.238229</td>\n",
              "      <td>0.096748</td>\n",
              "      <td>-0.002226</td>\n",
              "      <td>0.150575</td>\n",
              "      <td>-0.089975</td>\n",
              "      <td>-0.033330</td>\n",
              "      <td>0.047664</td>\n",
              "      <td>-0.029662</td>\n",
              "      <td>-0.112320</td>\n",
              "      <td>-0.040265</td>\n",
              "      <td>0.007226</td>\n",
              "      <td>0.136322</td>\n",
              "      <td>0.023181</td>\n",
              "      <td>0.008097</td>\n",
              "      <td>0.004171</td>\n",
              "      <td>87.445979</td>\n",
              "      <td>0.002620</td>\n",
              "    </tr>\n",
              "    <tr>\n",
              "      <th>std</th>\n",
              "      <td>12626.308343</td>\n",
              "      <td>1.831757</td>\n",
              "      <td>1.548373</td>\n",
              "      <td>1.506728</td>\n",
              "      <td>1.399784</td>\n",
              "      <td>1.379431</td>\n",
              "      <td>1.304722</td>\n",
              "      <td>1.244260</td>\n",
              "      <td>1.222742</td>\n",
              "      <td>1.225147</td>\n",
              "      <td>1.124921</td>\n",
              "      <td>1.129000</td>\n",
              "      <td>1.382945</td>\n",
              "      <td>1.145124</td>\n",
              "      <td>1.135287</td>\n",
              "      <td>0.955424</td>\n",
              "      <td>0.926469</td>\n",
              "      <td>1.040934</td>\n",
              "      <td>0.855584</td>\n",
              "      <td>0.816423</td>\n",
              "      <td>0.686521</td>\n",
              "      <td>0.750969</td>\n",
              "      <td>0.638109</td>\n",
              "      <td>0.551644</td>\n",
              "      <td>0.593281</td>\n",
              "      <td>0.435481</td>\n",
              "      <td>0.504830</td>\n",
              "      <td>0.385255</td>\n",
              "      <td>0.298453</td>\n",
              "      <td>234.567447</td>\n",
              "      <td>0.051115</td>\n",
              "    </tr>\n",
              "    <tr>\n",
              "      <th>min</th>\n",
              "      <td>0.000000</td>\n",
              "      <td>-30.552380</td>\n",
              "      <td>-40.978852</td>\n",
              "      <td>-31.103685</td>\n",
              "      <td>-5.172595</td>\n",
              "      <td>-42.147898</td>\n",
              "      <td>-23.496714</td>\n",
              "      <td>-26.548144</td>\n",
              "      <td>-41.484823</td>\n",
              "      <td>-7.175097</td>\n",
              "      <td>-14.166795</td>\n",
              "      <td>-4.049895</td>\n",
              "      <td>-17.769143</td>\n",
              "      <td>-3.808724</td>\n",
              "      <td>-19.214325</td>\n",
              "      <td>-4.152532</td>\n",
              "      <td>-12.227189</td>\n",
              "      <td>-18.587366</td>\n",
              "      <td>-8.061208</td>\n",
              "      <td>-4.932733</td>\n",
              "      <td>-13.694584</td>\n",
              "      <td>-20.262054</td>\n",
              "      <td>-8.593642</td>\n",
              "      <td>-26.751119</td>\n",
              "      <td>-2.836627</td>\n",
              "      <td>-7.495741</td>\n",
              "      <td>-1.438650</td>\n",
              "      <td>-8.567638</td>\n",
              "      <td>-9.617915</td>\n",
              "      <td>0.000000</td>\n",
              "      <td>0.000000</td>\n",
              "    </tr>\n",
              "    <tr>\n",
              "      <th>25%</th>\n",
              "      <td>14678.500000</td>\n",
              "      <td>-0.967117</td>\n",
              "      <td>-0.525207</td>\n",
              "      <td>0.233522</td>\n",
              "      <td>-0.717668</td>\n",
              "      <td>-0.835646</td>\n",
              "      <td>-0.638647</td>\n",
              "      <td>-0.597725</td>\n",
              "      <td>-0.152448</td>\n",
              "      <td>-0.555904</td>\n",
              "      <td>-0.552074</td>\n",
              "      <td>-0.393756</td>\n",
              "      <td>-1.330939</td>\n",
              "      <td>-0.524119</td>\n",
              "      <td>-0.262265</td>\n",
              "      <td>-0.464168</td>\n",
              "      <td>-0.490577</td>\n",
              "      <td>-0.344351</td>\n",
              "      <td>-0.564654</td>\n",
              "      <td>-0.524396</td>\n",
              "      <td>-0.162787</td>\n",
              "      <td>-0.236834</td>\n",
              "      <td>-0.534709</td>\n",
              "      <td>-0.178626</td>\n",
              "      <td>-0.325662</td>\n",
              "      <td>-0.128065</td>\n",
              "      <td>-0.330371</td>\n",
              "      <td>-0.063315</td>\n",
              "      <td>-0.006938</td>\n",
              "      <td>7.300000</td>\n",
              "      <td>0.000000</td>\n",
              "    </tr>\n",
              "    <tr>\n",
              "      <th>50%</th>\n",
              "      <td>30598.500000</td>\n",
              "      <td>-0.233669</td>\n",
              "      <td>0.101393</td>\n",
              "      <td>0.818163</td>\n",
              "      <td>0.185015</td>\n",
              "      <td>-0.267851</td>\n",
              "      <td>-0.158696</td>\n",
              "      <td>-0.073409</td>\n",
              "      <td>0.048385</td>\n",
              "      <td>0.091864</td>\n",
              "      <td>-0.130457</td>\n",
              "      <td>0.394228</td>\n",
              "      <td>-0.116484</td>\n",
              "      <td>0.171694</td>\n",
              "      <td>0.198534</td>\n",
              "      <td>0.215920</td>\n",
              "      <td>0.062533</td>\n",
              "      <td>0.089306</td>\n",
              "      <td>-0.072462</td>\n",
              "      <td>-0.032766</td>\n",
              "      <td>-0.022270</td>\n",
              "      <td>-0.077298</td>\n",
              "      <td>-0.086811</td>\n",
              "      <td>-0.051646</td>\n",
              "      <td>0.060796</td>\n",
              "      <td>0.176097</td>\n",
              "      <td>-0.063305</td>\n",
              "      <td>0.008394</td>\n",
              "      <td>0.021454</td>\n",
              "      <td>23.430000</td>\n",
              "      <td>0.000000</td>\n",
              "    </tr>\n",
              "    <tr>\n",
              "      <th>75%</th>\n",
              "      <td>35625.000000</td>\n",
              "      <td>1.160708</td>\n",
              "      <td>0.743741</td>\n",
              "      <td>1.447844</td>\n",
              "      <td>1.071347</td>\n",
              "      <td>0.297049</td>\n",
              "      <td>0.487010</td>\n",
              "      <td>0.433877</td>\n",
              "      <td>0.314947</td>\n",
              "      <td>0.930712</td>\n",
              "      <td>0.378404</td>\n",
              "      <td>1.209726</td>\n",
              "      <td>0.490027</td>\n",
              "      <td>0.990670</td>\n",
              "      <td>0.817913</td>\n",
              "      <td>0.775941</td>\n",
              "      <td>0.557111</td>\n",
              "      <td>0.579827</td>\n",
              "      <td>0.403895</td>\n",
              "      <td>0.475399</td>\n",
              "      <td>0.168917</td>\n",
              "      <td>0.100244</td>\n",
              "      <td>0.299013</td>\n",
              "      <td>0.076971</td>\n",
              "      <td>0.399378</td>\n",
              "      <td>0.421048</td>\n",
              "      <td>0.304110</td>\n",
              "      <td>0.085116</td>\n",
              "      <td>0.075965</td>\n",
              "      <td>79.000000</td>\n",
              "      <td>0.000000</td>\n",
              "    </tr>\n",
              "    <tr>\n",
              "      <th>max</th>\n",
              "      <td>39929.000000</td>\n",
              "      <td>1.960497</td>\n",
              "      <td>16.713389</td>\n",
              "      <td>4.101716</td>\n",
              "      <td>13.143668</td>\n",
              "      <td>34.099309</td>\n",
              "      <td>22.529298</td>\n",
              "      <td>36.677268</td>\n",
              "      <td>20.007208</td>\n",
              "      <td>10.392889</td>\n",
              "      <td>12.701539</td>\n",
              "      <td>12.018913</td>\n",
              "      <td>4.846452</td>\n",
              "      <td>4.465413</td>\n",
              "      <td>7.692209</td>\n",
              "      <td>3.832930</td>\n",
              "      <td>6.098529</td>\n",
              "      <td>9.253526</td>\n",
              "      <td>4.295648</td>\n",
              "      <td>4.555359</td>\n",
              "      <td>17.281859</td>\n",
              "      <td>22.614889</td>\n",
              "      <td>5.805795</td>\n",
              "      <td>17.297845</td>\n",
              "      <td>4.014444</td>\n",
              "      <td>5.525093</td>\n",
              "      <td>3.517346</td>\n",
              "      <td>11.135740</td>\n",
              "      <td>5.678671</td>\n",
              "      <td>7879.420000</td>\n",
              "      <td>1.000000</td>\n",
              "    </tr>\n",
              "  </tbody>\n",
              "</table>\n",
              "</div>"
            ],
            "text/plain": [
              "               Time            V1            V2            V3            V4  \\\n",
              "count  39702.000000  39702.000000  39702.000000  39702.000000  39702.000000   \n",
              "mean   25502.432497     -0.213932      0.051942      0.713780      0.189431   \n",
              "std    12626.308343      1.831757      1.548373      1.506728      1.399784   \n",
              "min        0.000000    -30.552380    -40.978852    -31.103685     -5.172595   \n",
              "25%    14678.500000     -0.967117     -0.525207      0.233522     -0.717668   \n",
              "50%    30598.500000     -0.233669      0.101393      0.818163      0.185015   \n",
              "75%    35625.000000      1.160708      0.743741      1.447844      1.071347   \n",
              "max    39929.000000      1.960497     16.713389      4.101716     13.143668   \n",
              "\n",
              "                 V5            V6            V7            V8            V9  \\\n",
              "count  39702.000000  39702.000000  39702.000000  39702.000000  39702.000000   \n",
              "mean      -0.231083      0.100915     -0.112981      0.041731      0.214179   \n",
              "std        1.379431      1.304722      1.244260      1.222742      1.225147   \n",
              "min      -42.147898    -23.496714    -26.548144    -41.484823     -7.175097   \n",
              "25%       -0.835646     -0.638647     -0.597725     -0.152448     -0.555904   \n",
              "50%       -0.267851     -0.158696     -0.073409      0.048385      0.091864   \n",
              "75%        0.297049      0.487010      0.433877      0.314947      0.930712   \n",
              "max       34.099309     22.529298     36.677268     20.007208     10.392889   \n",
              "\n",
              "                V10           V11           V12           V13           V14  \\\n",
              "count  39702.000000  39702.000000  39702.000000  39701.000000  39701.000000   \n",
              "mean      -0.071468      0.422693     -0.466401      0.248167      0.238229   \n",
              "std        1.124921      1.129000      1.382945      1.145124      1.135287   \n",
              "min      -14.166795     -4.049895    -17.769143     -3.808724    -19.214325   \n",
              "25%       -0.552074     -0.393756     -1.330939     -0.524119     -0.262265   \n",
              "50%       -0.130457      0.394228     -0.116484      0.171694      0.198534   \n",
              "75%        0.378404      1.209726      0.490027      0.990670      0.817913   \n",
              "max       12.701539     12.018913      4.846452      4.465413      7.692209   \n",
              "\n",
              "                V15           V16           V17           V18           V19  \\\n",
              "count  39701.000000  39701.000000  39701.000000  39701.000000  39701.000000   \n",
              "mean       0.096748     -0.002226      0.150575     -0.089975     -0.033330   \n",
              "std        0.955424      0.926469      1.040934      0.855584      0.816423   \n",
              "min       -4.152532    -12.227189    -18.587366     -8.061208     -4.932733   \n",
              "25%       -0.464168     -0.490577     -0.344351     -0.564654     -0.524396   \n",
              "50%        0.215920      0.062533      0.089306     -0.072462     -0.032766   \n",
              "75%        0.775941      0.557111      0.579827      0.403895      0.475399   \n",
              "max        3.832930      6.098529      9.253526      4.295648      4.555359   \n",
              "\n",
              "                V20           V21           V22           V23           V24  \\\n",
              "count  39701.000000  39701.000000  39701.000000  39701.000000  39701.000000   \n",
              "mean       0.047664     -0.029662     -0.112320     -0.040265      0.007226   \n",
              "std        0.686521      0.750969      0.638109      0.551644      0.593281   \n",
              "min      -13.694584    -20.262054     -8.593642    -26.751119     -2.836627   \n",
              "25%       -0.162787     -0.236834     -0.534709     -0.178626     -0.325662   \n",
              "50%       -0.022270     -0.077298     -0.086811     -0.051646      0.060796   \n",
              "75%        0.168917      0.100244      0.299013      0.076971      0.399378   \n",
              "max       17.281859     22.614889      5.805795     17.297845      4.014444   \n",
              "\n",
              "                V25           V26           V27           V28        Amount  \\\n",
              "count  39701.000000  39701.000000  39701.000000  39701.000000  39701.000000   \n",
              "mean       0.136322      0.023181      0.008097      0.004171     87.445979   \n",
              "std        0.435481      0.504830      0.385255      0.298453    234.567447   \n",
              "min       -7.495741     -1.438650     -8.567638     -9.617915      0.000000   \n",
              "25%       -0.128065     -0.330371     -0.063315     -0.006938      7.300000   \n",
              "50%        0.176097     -0.063305      0.008394      0.021454     23.430000   \n",
              "75%        0.421048      0.304110      0.085116      0.075965     79.000000   \n",
              "max        5.525093      3.517346     11.135740      5.678671   7879.420000   \n",
              "\n",
              "              Class  \n",
              "count  39701.000000  \n",
              "mean       0.002620  \n",
              "std        0.051115  \n",
              "min        0.000000  \n",
              "25%        0.000000  \n",
              "50%        0.000000  \n",
              "75%        0.000000  \n",
              "max        1.000000  "
            ]
          },
          "metadata": {
            "tags": []
          },
          "execution_count": 8
        }
      ]
    },
    {
      "cell_type": "markdown",
      "metadata": {
        "id": "LGXwbLo6Y91T",
        "colab_type": "text"
      },
      "source": [
        "Time ranges from 0 to 172,792\n",
        "\n",
        "Amount spent ranges from 0 to 25691 euros\n",
        "\n",
        "CLass ranges from 0 to 1. 1 is fraudulent and 0 is valid transaction"
      ]
    },
    {
      "cell_type": "markdown",
      "metadata": {
        "id": "ICnpKNR1YnQG",
        "colab_type": "text"
      },
      "source": [
        "### Data Understanding Summary\n",
        "\n",
        "Dataset has 284807 rows and 31 columns which are already transformed and reduced using PCA. Original features not available with exception of time, amount and class.\n",
        "\n",
        "All columns are numerical\n",
        "\n",
        "\n",
        "a) 'Time' contains the seconds elapsed between each transaction and the first transaction in the dataset.\n",
        "\n",
        "b) 'Amount' is the transaction Amount,which can be used for cost-senstive learning.\n",
        "\n",
        "c) 'Class' is the response variable and it takes value 1 in case of fraud and 0 otherwise.\n",
        "\n",
        "d) 'V1-V28' may be result of a PCA Dimensionality reduction to protect user identities and sensitive features"
      ]
    },
    {
      "cell_type": "markdown",
      "metadata": {
        "id": "FlBMxEDBUc9B",
        "colab_type": "text"
      },
      "source": [
        "## 5. Tidying the Dataset"
      ]
    },
    {
      "cell_type": "code",
      "metadata": {
        "id": "PvCYb6dgW4yh",
        "colab_type": "code",
        "outputId": "77191647-e0f7-4bf9-d6d5-ff463933b3e1",
        "colab": {
          "base_uri": "https://localhost:8080/",
          "height": 585
        }
      },
      "source": [
        "# Identifying the Missing Data\n",
        "#\n",
        "df.isnull().sum()"
      ],
      "execution_count": 0,
      "outputs": [
        {
          "output_type": "execute_result",
          "data": {
            "text/plain": [
              "Time      0\n",
              "V1        0\n",
              "V2        0\n",
              "V3        0\n",
              "V4        0\n",
              "V5        0\n",
              "V6        0\n",
              "V7        0\n",
              "V8        0\n",
              "V9        0\n",
              "V10       0\n",
              "V11       0\n",
              "V12       0\n",
              "V13       1\n",
              "V14       1\n",
              "V15       1\n",
              "V16       1\n",
              "V17       1\n",
              "V18       1\n",
              "V19       1\n",
              "V20       1\n",
              "V21       1\n",
              "V22       1\n",
              "V23       1\n",
              "V24       1\n",
              "V25       1\n",
              "V26       1\n",
              "V27       1\n",
              "V28       1\n",
              "Amount    1\n",
              "Class     1\n",
              "dtype: int64"
            ]
          },
          "metadata": {
            "tags": []
          },
          "execution_count": 9
        }
      ]
    },
    {
      "cell_type": "markdown",
      "metadata": {
        "id": "v58jG4A_G4ni",
        "colab_type": "text"
      },
      "source": [
        "We dont have any missing values in our dataset.\n"
      ]
    },
    {
      "cell_type": "code",
      "metadata": {
        "id": "MpsDGKZHsf_W",
        "colab_type": "code",
        "outputId": "d4873c70-2724-42d3-be8b-6deefe0b455f",
        "colab": {
          "base_uri": "https://localhost:8080/",
          "height": 34
        }
      },
      "source": [
        "# Checking for duplicates\n",
        "#\n",
        "df.duplicated().sum()"
      ],
      "execution_count": 0,
      "outputs": [
        {
          "output_type": "execute_result",
          "data": {
            "text/plain": [
              "179"
            ]
          },
          "metadata": {
            "tags": []
          },
          "execution_count": 10
        }
      ]
    },
    {
      "cell_type": "markdown",
      "metadata": {
        "id": "S7vz-X1rG-zW",
        "colab_type": "text"
      },
      "source": [
        "The fact that the dataset has amount, time and credit card specific details implies that there should be no duplicates. If any are found, possibility of fraud transactions."
      ]
    },
    {
      "cell_type": "code",
      "metadata": {
        "id": "f3tReBh5ZTrG",
        "colab_type": "code",
        "outputId": "40e074cc-94ec-413c-b0f3-67caf3773b45",
        "colab": {
          "base_uri": "https://localhost:8080/",
          "height": 367
        }
      },
      "source": [
        "# Viewing our duplicates\n",
        "\n",
        "df[df.duplicated()][0:10]"
      ],
      "execution_count": 0,
      "outputs": [
        {
          "output_type": "execute_result",
          "data": {
            "text/html": [
              "<div>\n",
              "<style scoped>\n",
              "    .dataframe tbody tr th:only-of-type {\n",
              "        vertical-align: middle;\n",
              "    }\n",
              "\n",
              "    .dataframe tbody tr th {\n",
              "        vertical-align: top;\n",
              "    }\n",
              "\n",
              "    .dataframe thead th {\n",
              "        text-align: right;\n",
              "    }\n",
              "</style>\n",
              "<table border=\"1\" class=\"dataframe\">\n",
              "  <thead>\n",
              "    <tr style=\"text-align: right;\">\n",
              "      <th></th>\n",
              "      <th>Time</th>\n",
              "      <th>V1</th>\n",
              "      <th>V2</th>\n",
              "      <th>V3</th>\n",
              "      <th>V4</th>\n",
              "      <th>V5</th>\n",
              "      <th>V6</th>\n",
              "      <th>V7</th>\n",
              "      <th>V8</th>\n",
              "      <th>V9</th>\n",
              "      <th>V10</th>\n",
              "      <th>V11</th>\n",
              "      <th>V12</th>\n",
              "      <th>V13</th>\n",
              "      <th>V14</th>\n",
              "      <th>V15</th>\n",
              "      <th>V16</th>\n",
              "      <th>V17</th>\n",
              "      <th>V18</th>\n",
              "      <th>V19</th>\n",
              "      <th>V20</th>\n",
              "      <th>V21</th>\n",
              "      <th>V22</th>\n",
              "      <th>V23</th>\n",
              "      <th>V24</th>\n",
              "      <th>V25</th>\n",
              "      <th>V26</th>\n",
              "      <th>V27</th>\n",
              "      <th>V28</th>\n",
              "      <th>Amount</th>\n",
              "      <th>Class</th>\n",
              "    </tr>\n",
              "  </thead>\n",
              "  <tbody>\n",
              "    <tr>\n",
              "      <th>33</th>\n",
              "      <td>26</td>\n",
              "      <td>-0.529912</td>\n",
              "      <td>0.873892</td>\n",
              "      <td>1.347247</td>\n",
              "      <td>0.145457</td>\n",
              "      <td>0.414209</td>\n",
              "      <td>0.100223</td>\n",
              "      <td>0.711206</td>\n",
              "      <td>0.176066</td>\n",
              "      <td>-0.286717</td>\n",
              "      <td>-0.484688</td>\n",
              "      <td>0.872490</td>\n",
              "      <td>0.851636</td>\n",
              "      <td>-0.571745</td>\n",
              "      <td>0.100974</td>\n",
              "      <td>-1.519772</td>\n",
              "      <td>-0.284376</td>\n",
              "      <td>-0.310524</td>\n",
              "      <td>-0.404248</td>\n",
              "      <td>-0.823374</td>\n",
              "      <td>-0.290348</td>\n",
              "      <td>0.046949</td>\n",
              "      <td>0.208105</td>\n",
              "      <td>-0.185548</td>\n",
              "      <td>0.001031</td>\n",
              "      <td>0.098816</td>\n",
              "      <td>-0.552904</td>\n",
              "      <td>-0.073288</td>\n",
              "      <td>0.023307</td>\n",
              "      <td>6.14</td>\n",
              "      <td>0.0</td>\n",
              "    </tr>\n",
              "    <tr>\n",
              "      <th>35</th>\n",
              "      <td>26</td>\n",
              "      <td>-0.535388</td>\n",
              "      <td>0.865268</td>\n",
              "      <td>1.351076</td>\n",
              "      <td>0.147575</td>\n",
              "      <td>0.433680</td>\n",
              "      <td>0.086983</td>\n",
              "      <td>0.693039</td>\n",
              "      <td>0.179742</td>\n",
              "      <td>-0.285642</td>\n",
              "      <td>-0.482474</td>\n",
              "      <td>0.871800</td>\n",
              "      <td>0.853447</td>\n",
              "      <td>-0.571822</td>\n",
              "      <td>0.102252</td>\n",
              "      <td>-1.519991</td>\n",
              "      <td>-0.285912</td>\n",
              "      <td>-0.309633</td>\n",
              "      <td>-0.403902</td>\n",
              "      <td>-0.823743</td>\n",
              "      <td>-0.283264</td>\n",
              "      <td>0.049526</td>\n",
              "      <td>0.206537</td>\n",
              "      <td>-0.187108</td>\n",
              "      <td>0.000753</td>\n",
              "      <td>0.098117</td>\n",
              "      <td>-0.553471</td>\n",
              "      <td>-0.078306</td>\n",
              "      <td>0.025427</td>\n",
              "      <td>1.77</td>\n",
              "      <td>0.0</td>\n",
              "    </tr>\n",
              "    <tr>\n",
              "      <th>113</th>\n",
              "      <td>74</td>\n",
              "      <td>1.038370</td>\n",
              "      <td>0.127486</td>\n",
              "      <td>0.184456</td>\n",
              "      <td>1.109950</td>\n",
              "      <td>0.441699</td>\n",
              "      <td>0.945283</td>\n",
              "      <td>-0.036715</td>\n",
              "      <td>0.350995</td>\n",
              "      <td>0.118950</td>\n",
              "      <td>-0.243289</td>\n",
              "      <td>0.578063</td>\n",
              "      <td>0.674730</td>\n",
              "      <td>-0.534231</td>\n",
              "      <td>0.446601</td>\n",
              "      <td>1.122885</td>\n",
              "      <td>-1.768001</td>\n",
              "      <td>1.241157</td>\n",
              "      <td>-2.449500</td>\n",
              "      <td>-1.747255</td>\n",
              "      <td>-0.335520</td>\n",
              "      <td>0.102520</td>\n",
              "      <td>0.605089</td>\n",
              "      <td>0.023092</td>\n",
              "      <td>-0.626463</td>\n",
              "      <td>0.479120</td>\n",
              "      <td>-0.166937</td>\n",
              "      <td>0.081247</td>\n",
              "      <td>0.001192</td>\n",
              "      <td>1.18</td>\n",
              "      <td>0.0</td>\n",
              "    </tr>\n",
              "    <tr>\n",
              "      <th>114</th>\n",
              "      <td>74</td>\n",
              "      <td>1.038370</td>\n",
              "      <td>0.127486</td>\n",
              "      <td>0.184456</td>\n",
              "      <td>1.109950</td>\n",
              "      <td>0.441699</td>\n",
              "      <td>0.945283</td>\n",
              "      <td>-0.036715</td>\n",
              "      <td>0.350995</td>\n",
              "      <td>0.118950</td>\n",
              "      <td>-0.243289</td>\n",
              "      <td>0.578063</td>\n",
              "      <td>0.674730</td>\n",
              "      <td>-0.534231</td>\n",
              "      <td>0.446601</td>\n",
              "      <td>1.122885</td>\n",
              "      <td>-1.768001</td>\n",
              "      <td>1.241157</td>\n",
              "      <td>-2.449500</td>\n",
              "      <td>-1.747255</td>\n",
              "      <td>-0.335520</td>\n",
              "      <td>0.102520</td>\n",
              "      <td>0.605089</td>\n",
              "      <td>0.023092</td>\n",
              "      <td>-0.626463</td>\n",
              "      <td>0.479120</td>\n",
              "      <td>-0.166937</td>\n",
              "      <td>0.081247</td>\n",
              "      <td>0.001192</td>\n",
              "      <td>1.18</td>\n",
              "      <td>0.0</td>\n",
              "    </tr>\n",
              "    <tr>\n",
              "      <th>115</th>\n",
              "      <td>74</td>\n",
              "      <td>1.038370</td>\n",
              "      <td>0.127486</td>\n",
              "      <td>0.184456</td>\n",
              "      <td>1.109950</td>\n",
              "      <td>0.441699</td>\n",
              "      <td>0.945283</td>\n",
              "      <td>-0.036715</td>\n",
              "      <td>0.350995</td>\n",
              "      <td>0.118950</td>\n",
              "      <td>-0.243289</td>\n",
              "      <td>0.578063</td>\n",
              "      <td>0.674730</td>\n",
              "      <td>-0.534231</td>\n",
              "      <td>0.446601</td>\n",
              "      <td>1.122885</td>\n",
              "      <td>-1.768001</td>\n",
              "      <td>1.241157</td>\n",
              "      <td>-2.449500</td>\n",
              "      <td>-1.747255</td>\n",
              "      <td>-0.335520</td>\n",
              "      <td>0.102520</td>\n",
              "      <td>0.605089</td>\n",
              "      <td>0.023092</td>\n",
              "      <td>-0.626463</td>\n",
              "      <td>0.479120</td>\n",
              "      <td>-0.166937</td>\n",
              "      <td>0.081247</td>\n",
              "      <td>0.001192</td>\n",
              "      <td>1.18</td>\n",
              "      <td>0.0</td>\n",
              "    </tr>\n",
              "    <tr>\n",
              "      <th>221</th>\n",
              "      <td>145</td>\n",
              "      <td>-2.420413</td>\n",
              "      <td>1.947885</td>\n",
              "      <td>0.553646</td>\n",
              "      <td>0.983069</td>\n",
              "      <td>-0.281518</td>\n",
              "      <td>2.408958</td>\n",
              "      <td>-1.401613</td>\n",
              "      <td>-0.188299</td>\n",
              "      <td>0.675878</td>\n",
              "      <td>0.158497</td>\n",
              "      <td>-1.224951</td>\n",
              "      <td>1.314705</td>\n",
              "      <td>0.304412</td>\n",
              "      <td>-0.290218</td>\n",
              "      <td>-2.014548</td>\n",
              "      <td>-0.772801</td>\n",
              "      <td>0.696761</td>\n",
              "      <td>0.017914</td>\n",
              "      <td>2.177250</td>\n",
              "      <td>-0.276207</td>\n",
              "      <td>1.213826</td>\n",
              "      <td>-1.238620</td>\n",
              "      <td>0.006927</td>\n",
              "      <td>-1.724222</td>\n",
              "      <td>0.239603</td>\n",
              "      <td>-0.313703</td>\n",
              "      <td>-0.188281</td>\n",
              "      <td>0.119831</td>\n",
              "      <td>6.00</td>\n",
              "      <td>0.0</td>\n",
              "    </tr>\n",
              "    <tr>\n",
              "      <th>223</th>\n",
              "      <td>145</td>\n",
              "      <td>-2.419486</td>\n",
              "      <td>1.949346</td>\n",
              "      <td>0.552998</td>\n",
              "      <td>0.982710</td>\n",
              "      <td>-0.284815</td>\n",
              "      <td>2.411200</td>\n",
              "      <td>-1.398537</td>\n",
              "      <td>-0.188922</td>\n",
              "      <td>0.675695</td>\n",
              "      <td>0.158123</td>\n",
              "      <td>-1.224834</td>\n",
              "      <td>1.314398</td>\n",
              "      <td>0.304425</td>\n",
              "      <td>-0.290434</td>\n",
              "      <td>-2.014511</td>\n",
              "      <td>-0.772540</td>\n",
              "      <td>0.696610</td>\n",
              "      <td>0.017855</td>\n",
              "      <td>2.177312</td>\n",
              "      <td>-0.277406</td>\n",
              "      <td>1.213390</td>\n",
              "      <td>-1.238354</td>\n",
              "      <td>0.007191</td>\n",
              "      <td>-1.724175</td>\n",
              "      <td>0.239721</td>\n",
              "      <td>-0.313607</td>\n",
              "      <td>-0.187431</td>\n",
              "      <td>0.119472</td>\n",
              "      <td>6.74</td>\n",
              "      <td>0.0</td>\n",
              "    </tr>\n",
              "    <tr>\n",
              "      <th>1178</th>\n",
              "      <td>919</td>\n",
              "      <td>0.904289</td>\n",
              "      <td>-0.538055</td>\n",
              "      <td>0.396058</td>\n",
              "      <td>0.500680</td>\n",
              "      <td>-0.864473</td>\n",
              "      <td>-0.657199</td>\n",
              "      <td>0.027231</td>\n",
              "      <td>-0.029473</td>\n",
              "      <td>0.265447</td>\n",
              "      <td>-0.110991</td>\n",
              "      <td>1.254250</td>\n",
              "      <td>0.704631</td>\n",
              "      <td>-0.967461</td>\n",
              "      <td>0.466524</td>\n",
              "      <td>-0.303979</td>\n",
              "      <td>0.094702</td>\n",
              "      <td>-0.198326</td>\n",
              "      <td>-0.124616</td>\n",
              "      <td>0.401377</td>\n",
              "      <td>0.157346</td>\n",
              "      <td>-0.099460</td>\n",
              "      <td>-0.597579</td>\n",
              "      <td>-0.048666</td>\n",
              "      <td>0.551824</td>\n",
              "      <td>0.182934</td>\n",
              "      <td>0.402176</td>\n",
              "      <td>-0.081357</td>\n",
              "      <td>0.027252</td>\n",
              "      <td>158.00</td>\n",
              "      <td>0.0</td>\n",
              "    </tr>\n",
              "    <tr>\n",
              "      <th>1180</th>\n",
              "      <td>919</td>\n",
              "      <td>1.207596</td>\n",
              "      <td>-0.036860</td>\n",
              "      <td>0.572104</td>\n",
              "      <td>0.373148</td>\n",
              "      <td>-0.709633</td>\n",
              "      <td>-0.713698</td>\n",
              "      <td>-0.181105</td>\n",
              "      <td>0.011277</td>\n",
              "      <td>0.283940</td>\n",
              "      <td>-0.037866</td>\n",
              "      <td>1.252000</td>\n",
              "      <td>0.698164</td>\n",
              "      <td>-0.995452</td>\n",
              "      <td>0.430980</td>\n",
              "      <td>-0.323729</td>\n",
              "      <td>0.073995</td>\n",
              "      <td>-0.202981</td>\n",
              "      <td>-0.156783</td>\n",
              "      <td>0.451522</td>\n",
              "      <td>-0.162378</td>\n",
              "      <td>-0.194591</td>\n",
              "      <td>-0.514717</td>\n",
              "      <td>0.089714</td>\n",
              "      <td>0.543768</td>\n",
              "      <td>0.240581</td>\n",
              "      <td>0.418921</td>\n",
              "      <td>-0.051693</td>\n",
              "      <td>-0.000085</td>\n",
              "      <td>1.00</td>\n",
              "      <td>0.0</td>\n",
              "    </tr>\n",
              "    <tr>\n",
              "      <th>1382</th>\n",
              "      <td>1074</td>\n",
              "      <td>-2.248488</td>\n",
              "      <td>-0.195670</td>\n",
              "      <td>0.026949</td>\n",
              "      <td>-0.525780</td>\n",
              "      <td>-0.238759</td>\n",
              "      <td>-0.033359</td>\n",
              "      <td>0.162196</td>\n",
              "      <td>0.928520</td>\n",
              "      <td>-0.424215</td>\n",
              "      <td>-1.133001</td>\n",
              "      <td>-0.529027</td>\n",
              "      <td>0.142246</td>\n",
              "      <td>-0.931195</td>\n",
              "      <td>0.923712</td>\n",
              "      <td>-0.750816</td>\n",
              "      <td>0.919012</td>\n",
              "      <td>-0.565837</td>\n",
              "      <td>0.547431</td>\n",
              "      <td>0.516124</td>\n",
              "      <td>-0.082562</td>\n",
              "      <td>-0.032208</td>\n",
              "      <td>-0.745757</td>\n",
              "      <td>-0.243193</td>\n",
              "      <td>-0.821633</td>\n",
              "      <td>-0.030402</td>\n",
              "      <td>0.335838</td>\n",
              "      <td>-0.286998</td>\n",
              "      <td>-0.243768</td>\n",
              "      <td>158.00</td>\n",
              "      <td>0.0</td>\n",
              "    </tr>\n",
              "  </tbody>\n",
              "</table>\n",
              "</div>"
            ],
            "text/plain": [
              "      Time        V1        V2        V3        V4        V5        V6  \\\n",
              "33      26 -0.529912  0.873892  1.347247  0.145457  0.414209  0.100223   \n",
              "35      26 -0.535388  0.865268  1.351076  0.147575  0.433680  0.086983   \n",
              "113     74  1.038370  0.127486  0.184456  1.109950  0.441699  0.945283   \n",
              "114     74  1.038370  0.127486  0.184456  1.109950  0.441699  0.945283   \n",
              "115     74  1.038370  0.127486  0.184456  1.109950  0.441699  0.945283   \n",
              "221    145 -2.420413  1.947885  0.553646  0.983069 -0.281518  2.408958   \n",
              "223    145 -2.419486  1.949346  0.552998  0.982710 -0.284815  2.411200   \n",
              "1178   919  0.904289 -0.538055  0.396058  0.500680 -0.864473 -0.657199   \n",
              "1180   919  1.207596 -0.036860  0.572104  0.373148 -0.709633 -0.713698   \n",
              "1382  1074 -2.248488 -0.195670  0.026949 -0.525780 -0.238759 -0.033359   \n",
              "\n",
              "            V7        V8        V9       V10       V11       V12       V13  \\\n",
              "33    0.711206  0.176066 -0.286717 -0.484688  0.872490  0.851636 -0.571745   \n",
              "35    0.693039  0.179742 -0.285642 -0.482474  0.871800  0.853447 -0.571822   \n",
              "113  -0.036715  0.350995  0.118950 -0.243289  0.578063  0.674730 -0.534231   \n",
              "114  -0.036715  0.350995  0.118950 -0.243289  0.578063  0.674730 -0.534231   \n",
              "115  -0.036715  0.350995  0.118950 -0.243289  0.578063  0.674730 -0.534231   \n",
              "221  -1.401613 -0.188299  0.675878  0.158497 -1.224951  1.314705  0.304412   \n",
              "223  -1.398537 -0.188922  0.675695  0.158123 -1.224834  1.314398  0.304425   \n",
              "1178  0.027231 -0.029473  0.265447 -0.110991  1.254250  0.704631 -0.967461   \n",
              "1180 -0.181105  0.011277  0.283940 -0.037866  1.252000  0.698164 -0.995452   \n",
              "1382  0.162196  0.928520 -0.424215 -1.133001 -0.529027  0.142246 -0.931195   \n",
              "\n",
              "           V14       V15       V16       V17       V18       V19       V20  \\\n",
              "33    0.100974 -1.519772 -0.284376 -0.310524 -0.404248 -0.823374 -0.290348   \n",
              "35    0.102252 -1.519991 -0.285912 -0.309633 -0.403902 -0.823743 -0.283264   \n",
              "113   0.446601  1.122885 -1.768001  1.241157 -2.449500 -1.747255 -0.335520   \n",
              "114   0.446601  1.122885 -1.768001  1.241157 -2.449500 -1.747255 -0.335520   \n",
              "115   0.446601  1.122885 -1.768001  1.241157 -2.449500 -1.747255 -0.335520   \n",
              "221  -0.290218 -2.014548 -0.772801  0.696761  0.017914  2.177250 -0.276207   \n",
              "223  -0.290434 -2.014511 -0.772540  0.696610  0.017855  2.177312 -0.277406   \n",
              "1178  0.466524 -0.303979  0.094702 -0.198326 -0.124616  0.401377  0.157346   \n",
              "1180  0.430980 -0.323729  0.073995 -0.202981 -0.156783  0.451522 -0.162378   \n",
              "1382  0.923712 -0.750816  0.919012 -0.565837  0.547431  0.516124 -0.082562   \n",
              "\n",
              "           V21       V22       V23       V24       V25       V26       V27  \\\n",
              "33    0.046949  0.208105 -0.185548  0.001031  0.098816 -0.552904 -0.073288   \n",
              "35    0.049526  0.206537 -0.187108  0.000753  0.098117 -0.553471 -0.078306   \n",
              "113   0.102520  0.605089  0.023092 -0.626463  0.479120 -0.166937  0.081247   \n",
              "114   0.102520  0.605089  0.023092 -0.626463  0.479120 -0.166937  0.081247   \n",
              "115   0.102520  0.605089  0.023092 -0.626463  0.479120 -0.166937  0.081247   \n",
              "221   1.213826 -1.238620  0.006927 -1.724222  0.239603 -0.313703 -0.188281   \n",
              "223   1.213390 -1.238354  0.007191 -1.724175  0.239721 -0.313607 -0.187431   \n",
              "1178 -0.099460 -0.597579 -0.048666  0.551824  0.182934  0.402176 -0.081357   \n",
              "1180 -0.194591 -0.514717  0.089714  0.543768  0.240581  0.418921 -0.051693   \n",
              "1382 -0.032208 -0.745757 -0.243193 -0.821633 -0.030402  0.335838 -0.286998   \n",
              "\n",
              "           V28  Amount  Class  \n",
              "33    0.023307    6.14    0.0  \n",
              "35    0.025427    1.77    0.0  \n",
              "113   0.001192    1.18    0.0  \n",
              "114   0.001192    1.18    0.0  \n",
              "115   0.001192    1.18    0.0  \n",
              "221   0.119831    6.00    0.0  \n",
              "223   0.119472    6.74    0.0  \n",
              "1178  0.027252  158.00    0.0  \n",
              "1180 -0.000085    1.00    0.0  \n",
              "1382 -0.243768  158.00    0.0  "
            ]
          },
          "metadata": {
            "tags": []
          },
          "execution_count": 11
        }
      ]
    },
    {
      "cell_type": "markdown",
      "metadata": {
        "id": "lBcDvzCJZcMH",
        "colab_type": "text"
      },
      "source": [
        "Some of the values above seem valid e.g row 221 and 223. In most cases, it's the time that is duplicated and other values are not. It's acceptable to have more than one transaction logged at same time.\n",
        "\n",
        "Some values e.g row 114 and 115 at time 74 seem like real duplicates. Nevertheless, we will not drop them. An engagement with product owner to find the causes for the duplicates to advise further action.\n",
        "\n",
        "Since this is a fraud scenario, a duplicate record is likely to be fraud case as well so it's important we don't drop the duplicates arbitrarly"
      ]
    },
    {
      "cell_type": "code",
      "metadata": {
        "id": "8il7X10WZgdD",
        "colab_type": "code",
        "outputId": "626fba60-7112-498e-9083-7ec5eb8a9c82",
        "colab": {
          "base_uri": "https://localhost:8080/",
          "height": 456
        }
      },
      "source": [
        "# Checking Data Errors\n",
        "# Transactions with amount zero\n",
        "\n",
        "print('Records with zero values group by class')\n",
        "print(df[df['Amount']==0].groupby(\"Class\")['Class'].count())\n",
        "df[df['Amount']==0][0:10]"
      ],
      "execution_count": 0,
      "outputs": [
        {
          "output_type": "stream",
          "text": [
            "Records with zero values group by class\n",
            "Class\n",
            "0.0    346\n",
            "1.0      3\n",
            "Name: Class, dtype: int64\n"
          ],
          "name": "stdout"
        },
        {
          "output_type": "execute_result",
          "data": {
            "text/html": [
              "<div>\n",
              "<style scoped>\n",
              "    .dataframe tbody tr th:only-of-type {\n",
              "        vertical-align: middle;\n",
              "    }\n",
              "\n",
              "    .dataframe tbody tr th {\n",
              "        vertical-align: top;\n",
              "    }\n",
              "\n",
              "    .dataframe thead th {\n",
              "        text-align: right;\n",
              "    }\n",
              "</style>\n",
              "<table border=\"1\" class=\"dataframe\">\n",
              "  <thead>\n",
              "    <tr style=\"text-align: right;\">\n",
              "      <th></th>\n",
              "      <th>Time</th>\n",
              "      <th>V1</th>\n",
              "      <th>V2</th>\n",
              "      <th>V3</th>\n",
              "      <th>V4</th>\n",
              "      <th>V5</th>\n",
              "      <th>V6</th>\n",
              "      <th>V7</th>\n",
              "      <th>V8</th>\n",
              "      <th>V9</th>\n",
              "      <th>V10</th>\n",
              "      <th>V11</th>\n",
              "      <th>V12</th>\n",
              "      <th>V13</th>\n",
              "      <th>V14</th>\n",
              "      <th>V15</th>\n",
              "      <th>V16</th>\n",
              "      <th>V17</th>\n",
              "      <th>V18</th>\n",
              "      <th>V19</th>\n",
              "      <th>V20</th>\n",
              "      <th>V21</th>\n",
              "      <th>V22</th>\n",
              "      <th>V23</th>\n",
              "      <th>V24</th>\n",
              "      <th>V25</th>\n",
              "      <th>V26</th>\n",
              "      <th>V27</th>\n",
              "      <th>V28</th>\n",
              "      <th>Amount</th>\n",
              "      <th>Class</th>\n",
              "    </tr>\n",
              "  </thead>\n",
              "  <tbody>\n",
              "    <tr>\n",
              "      <th>383</th>\n",
              "      <td>282</td>\n",
              "      <td>-0.356466</td>\n",
              "      <td>0.725418</td>\n",
              "      <td>1.971749</td>\n",
              "      <td>0.831343</td>\n",
              "      <td>0.369681</td>\n",
              "      <td>-0.107776</td>\n",
              "      <td>0.751610</td>\n",
              "      <td>-0.120166</td>\n",
              "      <td>-0.420675</td>\n",
              "      <td>-0.059943</td>\n",
              "      <td>-0.508270</td>\n",
              "      <td>0.425506</td>\n",
              "      <td>0.414309</td>\n",
              "      <td>-0.698375</td>\n",
              "      <td>-1.465349</td>\n",
              "      <td>-0.119009</td>\n",
              "      <td>-0.144735</td>\n",
              "      <td>-1.332221</td>\n",
              "      <td>-1.547440</td>\n",
              "      <td>-0.133602</td>\n",
              "      <td>0.020804</td>\n",
              "      <td>0.424312</td>\n",
              "      <td>-0.015989</td>\n",
              "      <td>0.466754</td>\n",
              "      <td>-0.809962</td>\n",
              "      <td>0.657334</td>\n",
              "      <td>-0.043150</td>\n",
              "      <td>-0.046401</td>\n",
              "      <td>0.0</td>\n",
              "      <td>0.0</td>\n",
              "    </tr>\n",
              "    <tr>\n",
              "      <th>514</th>\n",
              "      <td>380</td>\n",
              "      <td>-1.299837</td>\n",
              "      <td>0.881817</td>\n",
              "      <td>1.452842</td>\n",
              "      <td>-1.293698</td>\n",
              "      <td>-0.025105</td>\n",
              "      <td>-1.170103</td>\n",
              "      <td>0.861610</td>\n",
              "      <td>-0.193934</td>\n",
              "      <td>0.592001</td>\n",
              "      <td>0.241979</td>\n",
              "      <td>0.144973</td>\n",
              "      <td>-0.583891</td>\n",
              "      <td>-1.595345</td>\n",
              "      <td>0.032613</td>\n",
              "      <td>0.752834</td>\n",
              "      <td>-0.094286</td>\n",
              "      <td>-0.163427</td>\n",
              "      <td>-1.111176</td>\n",
              "      <td>-1.124025</td>\n",
              "      <td>0.065979</td>\n",
              "      <td>-0.272563</td>\n",
              "      <td>-0.360853</td>\n",
              "      <td>0.223911</td>\n",
              "      <td>0.598930</td>\n",
              "      <td>-0.397705</td>\n",
              "      <td>0.637141</td>\n",
              "      <td>0.234872</td>\n",
              "      <td>0.021379</td>\n",
              "      <td>0.0</td>\n",
              "      <td>0.0</td>\n",
              "    </tr>\n",
              "    <tr>\n",
              "      <th>534</th>\n",
              "      <td>403</td>\n",
              "      <td>1.237413</td>\n",
              "      <td>0.512365</td>\n",
              "      <td>0.687746</td>\n",
              "      <td>1.693872</td>\n",
              "      <td>-0.236323</td>\n",
              "      <td>-0.650232</td>\n",
              "      <td>0.118066</td>\n",
              "      <td>-0.230545</td>\n",
              "      <td>-0.808523</td>\n",
              "      <td>0.511284</td>\n",
              "      <td>-0.178159</td>\n",
              "      <td>0.762909</td>\n",
              "      <td>1.700923</td>\n",
              "      <td>-0.133861</td>\n",
              "      <td>0.402418</td>\n",
              "      <td>0.684668</td>\n",
              "      <td>-0.609395</td>\n",
              "      <td>-0.704277</td>\n",
              "      <td>-0.720726</td>\n",
              "      <td>-0.006716</td>\n",
              "      <td>-0.077543</td>\n",
              "      <td>-0.178220</td>\n",
              "      <td>0.038722</td>\n",
              "      <td>0.471218</td>\n",
              "      <td>0.289249</td>\n",
              "      <td>0.871803</td>\n",
              "      <td>-0.066884</td>\n",
              "      <td>0.012986</td>\n",
              "      <td>0.0</td>\n",
              "      <td>0.0</td>\n",
              "    </tr>\n",
              "    <tr>\n",
              "      <th>541</th>\n",
              "      <td>406</td>\n",
              "      <td>-2.312227</td>\n",
              "      <td>1.951992</td>\n",
              "      <td>-1.609851</td>\n",
              "      <td>3.997906</td>\n",
              "      <td>-0.522188</td>\n",
              "      <td>-1.426545</td>\n",
              "      <td>-2.537387</td>\n",
              "      <td>1.391657</td>\n",
              "      <td>-2.770089</td>\n",
              "      <td>-2.772272</td>\n",
              "      <td>3.202033</td>\n",
              "      <td>-2.899907</td>\n",
              "      <td>-0.595222</td>\n",
              "      <td>-4.289254</td>\n",
              "      <td>0.389724</td>\n",
              "      <td>-1.140747</td>\n",
              "      <td>-2.830056</td>\n",
              "      <td>-0.016822</td>\n",
              "      <td>0.416956</td>\n",
              "      <td>0.126911</td>\n",
              "      <td>0.517232</td>\n",
              "      <td>-0.035049</td>\n",
              "      <td>-0.465211</td>\n",
              "      <td>0.320198</td>\n",
              "      <td>0.044519</td>\n",
              "      <td>0.177840</td>\n",
              "      <td>0.261145</td>\n",
              "      <td>-0.143276</td>\n",
              "      <td>0.0</td>\n",
              "      <td>1.0</td>\n",
              "    </tr>\n",
              "    <tr>\n",
              "      <th>575</th>\n",
              "      <td>430</td>\n",
              "      <td>-1.860258</td>\n",
              "      <td>-0.629859</td>\n",
              "      <td>0.966570</td>\n",
              "      <td>0.844632</td>\n",
              "      <td>0.759983</td>\n",
              "      <td>-1.481173</td>\n",
              "      <td>-0.509681</td>\n",
              "      <td>0.540722</td>\n",
              "      <td>-0.733623</td>\n",
              "      <td>-0.371622</td>\n",
              "      <td>0.859741</td>\n",
              "      <td>0.372609</td>\n",
              "      <td>-1.240185</td>\n",
              "      <td>0.998391</td>\n",
              "      <td>-0.346387</td>\n",
              "      <td>-0.391679</td>\n",
              "      <td>0.348289</td>\n",
              "      <td>0.282125</td>\n",
              "      <td>1.165893</td>\n",
              "      <td>0.320450</td>\n",
              "      <td>0.268028</td>\n",
              "      <td>0.125515</td>\n",
              "      <td>-0.225029</td>\n",
              "      <td>0.586664</td>\n",
              "      <td>-0.031598</td>\n",
              "      <td>0.570168</td>\n",
              "      <td>-0.043007</td>\n",
              "      <td>-0.223739</td>\n",
              "      <td>0.0</td>\n",
              "      <td>0.0</td>\n",
              "    </tr>\n",
              "    <tr>\n",
              "      <th>936</th>\n",
              "      <td>711</td>\n",
              "      <td>-0.431349</td>\n",
              "      <td>1.027694</td>\n",
              "      <td>2.670816</td>\n",
              "      <td>2.084787</td>\n",
              "      <td>-0.274567</td>\n",
              "      <td>0.286856</td>\n",
              "      <td>0.152110</td>\n",
              "      <td>0.200872</td>\n",
              "      <td>-0.596505</td>\n",
              "      <td>0.022224</td>\n",
              "      <td>-0.993674</td>\n",
              "      <td>0.244681</td>\n",
              "      <td>0.711846</td>\n",
              "      <td>-0.666973</td>\n",
              "      <td>-0.600267</td>\n",
              "      <td>0.480204</td>\n",
              "      <td>-0.438582</td>\n",
              "      <td>-0.119475</td>\n",
              "      <td>-0.681539</td>\n",
              "      <td>-0.057886</td>\n",
              "      <td>0.001241</td>\n",
              "      <td>0.154170</td>\n",
              "      <td>-0.141533</td>\n",
              "      <td>0.384610</td>\n",
              "      <td>-0.147132</td>\n",
              "      <td>-0.087100</td>\n",
              "      <td>0.101117</td>\n",
              "      <td>0.077944</td>\n",
              "      <td>0.0</td>\n",
              "      <td>0.0</td>\n",
              "    </tr>\n",
              "    <tr>\n",
              "      <th>1059</th>\n",
              "      <td>804</td>\n",
              "      <td>1.181697</td>\n",
              "      <td>-0.007908</td>\n",
              "      <td>-0.066845</td>\n",
              "      <td>1.532223</td>\n",
              "      <td>1.728832</td>\n",
              "      <td>4.409885</td>\n",
              "      <td>-1.138816</td>\n",
              "      <td>1.164645</td>\n",
              "      <td>-0.020578</td>\n",
              "      <td>0.554216</td>\n",
              "      <td>-0.729227</td>\n",
              "      <td>-0.010698</td>\n",
              "      <td>-0.013586</td>\n",
              "      <td>-0.272330</td>\n",
              "      <td>-0.114823</td>\n",
              "      <td>0.947451</td>\n",
              "      <td>-0.914655</td>\n",
              "      <td>0.245244</td>\n",
              "      <td>-0.469550</td>\n",
              "      <td>-0.040382</td>\n",
              "      <td>-0.139920</td>\n",
              "      <td>-0.399563</td>\n",
              "      <td>0.010200</td>\n",
              "      <td>0.992235</td>\n",
              "      <td>0.457015</td>\n",
              "      <td>-0.027924</td>\n",
              "      <td>0.045273</td>\n",
              "      <td>0.028868</td>\n",
              "      <td>0.0</td>\n",
              "      <td>0.0</td>\n",
              "    </tr>\n",
              "    <tr>\n",
              "      <th>1072</th>\n",
              "      <td>820</td>\n",
              "      <td>-0.937481</td>\n",
              "      <td>0.401649</td>\n",
              "      <td>1.882689</td>\n",
              "      <td>-0.362001</td>\n",
              "      <td>0.751088</td>\n",
              "      <td>-0.899262</td>\n",
              "      <td>0.880557</td>\n",
              "      <td>-0.181650</td>\n",
              "      <td>-0.211657</td>\n",
              "      <td>-0.666699</td>\n",
              "      <td>-0.343746</td>\n",
              "      <td>-0.429064</td>\n",
              "      <td>-1.325857</td>\n",
              "      <td>0.100213</td>\n",
              "      <td>-0.143886</td>\n",
              "      <td>-0.613434</td>\n",
              "      <td>0.130665</td>\n",
              "      <td>-0.988969</td>\n",
              "      <td>-0.829912</td>\n",
              "      <td>-0.056409</td>\n",
              "      <td>-0.001757</td>\n",
              "      <td>0.097379</td>\n",
              "      <td>-0.324050</td>\n",
              "      <td>0.436521</td>\n",
              "      <td>0.509674</td>\n",
              "      <td>0.454116</td>\n",
              "      <td>-0.201804</td>\n",
              "      <td>-0.175439</td>\n",
              "      <td>0.0</td>\n",
              "      <td>0.0</td>\n",
              "    </tr>\n",
              "    <tr>\n",
              "      <th>1170</th>\n",
              "      <td>912</td>\n",
              "      <td>1.083003</td>\n",
              "      <td>0.201589</td>\n",
              "      <td>1.497664</td>\n",
              "      <td>2.661922</td>\n",
              "      <td>-0.621256</td>\n",
              "      <td>0.618554</td>\n",
              "      <td>-0.644140</td>\n",
              "      <td>0.310919</td>\n",
              "      <td>0.125964</td>\n",
              "      <td>0.453240</td>\n",
              "      <td>-0.755020</td>\n",
              "      <td>0.184041</td>\n",
              "      <td>-0.107569</td>\n",
              "      <td>-0.361091</td>\n",
              "      <td>-0.037247</td>\n",
              "      <td>0.334321</td>\n",
              "      <td>-0.129615</td>\n",
              "      <td>-0.633848</td>\n",
              "      <td>-1.199578</td>\n",
              "      <td>-0.203726</td>\n",
              "      <td>-0.060433</td>\n",
              "      <td>0.009647</td>\n",
              "      <td>0.077072</td>\n",
              "      <td>0.072141</td>\n",
              "      <td>0.220747</td>\n",
              "      <td>-0.013483</td>\n",
              "      <td>0.058596</td>\n",
              "      <td>0.032054</td>\n",
              "      <td>0.0</td>\n",
              "      <td>0.0</td>\n",
              "    </tr>\n",
              "    <tr>\n",
              "      <th>1526</th>\n",
              "      <td>1193</td>\n",
              "      <td>1.130646</td>\n",
              "      <td>0.625391</td>\n",
              "      <td>0.837987</td>\n",
              "      <td>2.506543</td>\n",
              "      <td>-0.107116</td>\n",
              "      <td>-0.245548</td>\n",
              "      <td>0.099603</td>\n",
              "      <td>-0.041457</td>\n",
              "      <td>-0.867319</td>\n",
              "      <td>0.623165</td>\n",
              "      <td>0.111591</td>\n",
              "      <td>0.503149</td>\n",
              "      <td>0.727329</td>\n",
              "      <td>0.174358</td>\n",
              "      <td>0.684883</td>\n",
              "      <td>0.293412</td>\n",
              "      <td>-0.288419</td>\n",
              "      <td>-0.952503</td>\n",
              "      <td>-1.491590</td>\n",
              "      <td>-0.153060</td>\n",
              "      <td>-0.017154</td>\n",
              "      <td>-0.014311</td>\n",
              "      <td>0.086559</td>\n",
              "      <td>0.393496</td>\n",
              "      <td>0.332062</td>\n",
              "      <td>-0.066378</td>\n",
              "      <td>0.013858</td>\n",
              "      <td>0.025382</td>\n",
              "      <td>0.0</td>\n",
              "      <td>0.0</td>\n",
              "    </tr>\n",
              "  </tbody>\n",
              "</table>\n",
              "</div>"
            ],
            "text/plain": [
              "      Time        V1        V2        V3        V4        V5        V6  \\\n",
              "383    282 -0.356466  0.725418  1.971749  0.831343  0.369681 -0.107776   \n",
              "514    380 -1.299837  0.881817  1.452842 -1.293698 -0.025105 -1.170103   \n",
              "534    403  1.237413  0.512365  0.687746  1.693872 -0.236323 -0.650232   \n",
              "541    406 -2.312227  1.951992 -1.609851  3.997906 -0.522188 -1.426545   \n",
              "575    430 -1.860258 -0.629859  0.966570  0.844632  0.759983 -1.481173   \n",
              "936    711 -0.431349  1.027694  2.670816  2.084787 -0.274567  0.286856   \n",
              "1059   804  1.181697 -0.007908 -0.066845  1.532223  1.728832  4.409885   \n",
              "1072   820 -0.937481  0.401649  1.882689 -0.362001  0.751088 -0.899262   \n",
              "1170   912  1.083003  0.201589  1.497664  2.661922 -0.621256  0.618554   \n",
              "1526  1193  1.130646  0.625391  0.837987  2.506543 -0.107116 -0.245548   \n",
              "\n",
              "            V7        V8        V9       V10       V11       V12       V13  \\\n",
              "383   0.751610 -0.120166 -0.420675 -0.059943 -0.508270  0.425506  0.414309   \n",
              "514   0.861610 -0.193934  0.592001  0.241979  0.144973 -0.583891 -1.595345   \n",
              "534   0.118066 -0.230545 -0.808523  0.511284 -0.178159  0.762909  1.700923   \n",
              "541  -2.537387  1.391657 -2.770089 -2.772272  3.202033 -2.899907 -0.595222   \n",
              "575  -0.509681  0.540722 -0.733623 -0.371622  0.859741  0.372609 -1.240185   \n",
              "936   0.152110  0.200872 -0.596505  0.022224 -0.993674  0.244681  0.711846   \n",
              "1059 -1.138816  1.164645 -0.020578  0.554216 -0.729227 -0.010698 -0.013586   \n",
              "1072  0.880557 -0.181650 -0.211657 -0.666699 -0.343746 -0.429064 -1.325857   \n",
              "1170 -0.644140  0.310919  0.125964  0.453240 -0.755020  0.184041 -0.107569   \n",
              "1526  0.099603 -0.041457 -0.867319  0.623165  0.111591  0.503149  0.727329   \n",
              "\n",
              "           V14       V15       V16       V17       V18       V19       V20  \\\n",
              "383  -0.698375 -1.465349 -0.119009 -0.144735 -1.332221 -1.547440 -0.133602   \n",
              "514   0.032613  0.752834 -0.094286 -0.163427 -1.111176 -1.124025  0.065979   \n",
              "534  -0.133861  0.402418  0.684668 -0.609395 -0.704277 -0.720726 -0.006716   \n",
              "541  -4.289254  0.389724 -1.140747 -2.830056 -0.016822  0.416956  0.126911   \n",
              "575   0.998391 -0.346387 -0.391679  0.348289  0.282125  1.165893  0.320450   \n",
              "936  -0.666973 -0.600267  0.480204 -0.438582 -0.119475 -0.681539 -0.057886   \n",
              "1059 -0.272330 -0.114823  0.947451 -0.914655  0.245244 -0.469550 -0.040382   \n",
              "1072  0.100213 -0.143886 -0.613434  0.130665 -0.988969 -0.829912 -0.056409   \n",
              "1170 -0.361091 -0.037247  0.334321 -0.129615 -0.633848 -1.199578 -0.203726   \n",
              "1526  0.174358  0.684883  0.293412 -0.288419 -0.952503 -1.491590 -0.153060   \n",
              "\n",
              "           V21       V22       V23       V24       V25       V26       V27  \\\n",
              "383   0.020804  0.424312 -0.015989  0.466754 -0.809962  0.657334 -0.043150   \n",
              "514  -0.272563 -0.360853  0.223911  0.598930 -0.397705  0.637141  0.234872   \n",
              "534  -0.077543 -0.178220  0.038722  0.471218  0.289249  0.871803 -0.066884   \n",
              "541   0.517232 -0.035049 -0.465211  0.320198  0.044519  0.177840  0.261145   \n",
              "575   0.268028  0.125515 -0.225029  0.586664 -0.031598  0.570168 -0.043007   \n",
              "936   0.001241  0.154170 -0.141533  0.384610 -0.147132 -0.087100  0.101117   \n",
              "1059 -0.139920 -0.399563  0.010200  0.992235  0.457015 -0.027924  0.045273   \n",
              "1072 -0.001757  0.097379 -0.324050  0.436521  0.509674  0.454116 -0.201804   \n",
              "1170 -0.060433  0.009647  0.077072  0.072141  0.220747 -0.013483  0.058596   \n",
              "1526 -0.017154 -0.014311  0.086559  0.393496  0.332062 -0.066378  0.013858   \n",
              "\n",
              "           V28  Amount  Class  \n",
              "383  -0.046401     0.0    0.0  \n",
              "514   0.021379     0.0    0.0  \n",
              "534   0.012986     0.0    0.0  \n",
              "541  -0.143276     0.0    1.0  \n",
              "575  -0.223739     0.0    0.0  \n",
              "936   0.077944     0.0    0.0  \n",
              "1059  0.028868     0.0    0.0  \n",
              "1072 -0.175439     0.0    0.0  \n",
              "1170  0.032054     0.0    0.0  \n",
              "1526  0.025382     0.0    0.0  "
            ]
          },
          "metadata": {
            "tags": []
          },
          "execution_count": 12
        }
      ]
    },
    {
      "cell_type": "markdown",
      "metadata": {
        "id": "AYGIZTL2Z3Xj",
        "colab_type": "text"
      },
      "source": [
        "1825 transaction had zero amount of which 1798 transactions were valid while 27 of these were marked as fraudulent transactions."
      ]
    },
    {
      "cell_type": "code",
      "metadata": {
        "id": "SXaF29SSZslm",
        "colab_type": "code",
        "outputId": "55141de0-efab-4a3f-f95b-93f33de55c1b",
        "colab": {
          "base_uri": "https://localhost:8080/",
          "height": 52
        }
      },
      "source": [
        "# Transactions with negative amount or time\n",
        "\n",
        "print(\"Negative Amount\",df[df['Amount']<0]['Amount'].count())\n",
        "print(\"Negative Time\",df[df['Time']<0]['Time'].count())"
      ],
      "execution_count": 0,
      "outputs": [
        {
          "output_type": "stream",
          "text": [
            "Negative Amount 0\n",
            "Negative Time 0\n"
          ],
          "name": "stdout"
        }
      ]
    },
    {
      "cell_type": "markdown",
      "metadata": {
        "id": "-lUAiWoNZ8ak",
        "colab_type": "text"
      },
      "source": [
        "No transactions have negative amount."
      ]
    },
    {
      "cell_type": "markdown",
      "metadata": {
        "id": "sAkayCxmaAQu",
        "colab_type": "text"
      },
      "source": [
        "### Outliers"
      ]
    },
    {
      "cell_type": "code",
      "metadata": {
        "id": "pTu8WCMCaGQA",
        "colab_type": "code",
        "outputId": "e71df43e-6fa6-4c0a-af53-6bdd4ddbb072",
        "colab": {
          "base_uri": "https://localhost:8080/",
          "height": 1000
        }
      },
      "source": [
        "# Boxplots\n",
        "# Creating a list of columns to check for outliers\n",
        "# Creating a list of colors\n",
        "#\n",
        "col_list = ['Time', 'V1', 'V2', 'V3', 'V4', 'V5', 'V6', 'V7', 'V8', 'V9', 'V10',\n",
        "       'V11', 'V12', 'V13', 'V14', 'V15', 'V16', 'V17', 'V18', 'V19', 'V20',\n",
        "       'V21', 'V22', 'V23', 'V24', 'V25', 'V26', 'V27', 'V28', 'Amount',\n",
        "       'Class']\n",
        "colors = ['blueviolet', 'darkorange', 'springgreen', 'fuchsia', 'darkorange', 'blueviolet', 'springgreen','blueviolet', 'darkorange', 'springgreen', 'fuchsia', 'darkorange', 'blueviolet', 'springgreen','blueviolet',\n",
        "         'blueviolet', 'darkorange', 'springgreen', 'fuchsia', 'darkorange', 'blueviolet', 'springgreen','blueviolet', 'darkorange', 'springgreen', 'fuchsia', 'darkorange', 'blueviolet', 'springgreen','blueviolet',\n",
        "         'blueviolet', 'darkorange', 'springgreen']\n",
        "\n",
        "# Plotting boxplots of the col_list columns to check for outliers\n",
        "#\n",
        "fig, axes = plt.subplots(nrows = 11, ncols = 3, figsize = (15, 40))\n",
        "plt.suptitle('Boxplots', fontsize = 15, y = 0.92, color = 'indigo')\n",
        "for ax, data, column, color in zip(axes.flatten(), df, col_list, colors):\n",
        "  sns.boxplot(df[column], ax = ax, color = color)\n",
        "  ax.set_facecolor('lavender') # Setting the background color to lavender"
      ],
      "execution_count": 0,
      "outputs": [
        {
          "output_type": "display_data",
          "data": {
            "image/png": "[encoded data removed]",
            "text/plain": [
              "<Figure size 1080x2880 with 33 Axes>"
            ]
          },
          "metadata": {
            "tags": []
          }
        }
      ]
    },
    {
      "cell_type": "markdown",
      "metadata": {
        "id": "rF2ABPsHUtbZ",
        "colab_type": "text"
      },
      "source": [
        "## 6. Exploratory Analysis"
      ]
    },
    {
      "cell_type": "code",
      "metadata": {
        "id": "sBDhcN_mHXmX",
        "colab_type": "code",
        "outputId": "5b8286d8-589d-4e25-ba33-07dbd37a343c",
        "colab": {
          "base_uri": "https://localhost:8080/",
          "height": 664
        }
      },
      "source": [
        "# visualizing how many fraud cases we have\n",
        "\n",
        "sns.countplot(df.Class)\n",
        "plt.show()\n",
        "print(df.Class.value_counts())"
      ],
      "execution_count": 0,
      "outputs": [
        {
          "output_type": "display_data",
          "data": {
            "image/png": "[encoded data removed]",
            "text/plain": [
              "<Figure size 936x720 with 1 Axes>"
            ]
          },
          "metadata": {
            "tags": []
          }
        },
        {
          "output_type": "stream",
          "text": [
            "0.0    39597\n",
            "1.0      104\n",
            "Name: Class, dtype: int64\n"
          ],
          "name": "stdout"
        }
      ]
    },
    {
      "cell_type": "markdown",
      "metadata": {
        "id": "_V62iIuSdYqk",
        "colab_type": "text"
      },
      "source": [
        "We have a highly imbalanced dataset. the total number of normal transactions is 284315 while fraud transactions are 492."
      ]
    },
    {
      "cell_type": "code",
      "metadata": {
        "id": "0B48NLRhW5V3",
        "colab_type": "code",
        "outputId": "9fedae4f-c515-4cca-9e24-80464e1722f6",
        "colab": {
          "base_uri": "https://localhost:8080/",
          "height": 665
        }
      },
      "source": [
        "# Pie chart to display class values\n",
        "sns.set_style('whitegrid')\n",
        "df['Class'].value_counts().plot(kind='pie', subplots=True,autopct='%1.2f%%')\n",
        "plt.show()\n",
        "d = df.Class.value_counts()\n",
        "\n",
        "\n",
        "# calculating the total percentage of our transactions\n",
        "imbal = df['Class'].value_counts().to_frame().reset_index()\n",
        "imbal['percent'] = imbal[\"Class\"].apply(lambda x : round(100*float(x) / len(df), 2))\n",
        "imbal = imbal.rename(columns = {\"index\" : \"Target\", \"Class\" : \"Count\"})\n",
        "imbal"
      ],
      "execution_count": 0,
      "outputs": [
        {
          "output_type": "display_data",
          "data": {
            "image/png": "[encoded data removed]",
            "text/plain": [
              "<Figure size 936x720 with 1 Axes>"
            ]
          },
          "metadata": {
            "tags": []
          }
        },
        {
          "output_type": "execute_result",
          "data": {
            "text/html": [
              "<div>\n",
              "<style scoped>\n",
              "    .dataframe tbody tr th:only-of-type {\n",
              "        vertical-align: middle;\n",
              "    }\n",
              "\n",
              "    .dataframe tbody tr th {\n",
              "        vertical-align: top;\n",
              "    }\n",
              "\n",
              "    .dataframe thead th {\n",
              "        text-align: right;\n",
              "    }\n",
              "</style>\n",
              "<table border=\"1\" class=\"dataframe\">\n",
              "  <thead>\n",
              "    <tr style=\"text-align: right;\">\n",
              "      <th></th>\n",
              "      <th>Target</th>\n",
              "      <th>Count</th>\n",
              "      <th>percent</th>\n",
              "    </tr>\n",
              "  </thead>\n",
              "  <tbody>\n",
              "    <tr>\n",
              "      <th>0</th>\n",
              "      <td>0.0</td>\n",
              "      <td>39597</td>\n",
              "      <td>99.74</td>\n",
              "    </tr>\n",
              "    <tr>\n",
              "      <th>1</th>\n",
              "      <td>1.0</td>\n",
              "      <td>104</td>\n",
              "      <td>0.26</td>\n",
              "    </tr>\n",
              "  </tbody>\n",
              "</table>\n",
              "</div>"
            ],
            "text/plain": [
              "   Target  Count  percent\n",
              "0     0.0  39597    99.74\n",
              "1     1.0    104     0.26"
            ]
          },
          "metadata": {
            "tags": []
          },
          "execution_count": 16
        }
      ]
    },
    {
      "cell_type": "code",
      "metadata": {
        "id": "2ypltofyjlpD",
        "colab_type": "code",
        "outputId": "ee0816fe-314b-41a1-f359-f5a7ed7b9e14",
        "colab": {
          "base_uri": "https://localhost:8080/",
          "height": 107
        }
      },
      "source": [
        "# calculating the total percentage of our transactions\n",
        "#\n",
        "a = df['Class'].value_counts().to_frame().reset_index()\n",
        "a['percent'] = a[\"Class\"].apply(lambda x : round(100*float(x) / len(df), 2))\n",
        "a = a.rename(columns = {\"index\" : \"Target\", \"Class\" : \"Count\"})\n",
        "a"
      ],
      "execution_count": 0,
      "outputs": [
        {
          "output_type": "execute_result",
          "data": {
            "text/html": [
              "<div>\n",
              "<style scoped>\n",
              "    .dataframe tbody tr th:only-of-type {\n",
              "        vertical-align: middle;\n",
              "    }\n",
              "\n",
              "    .dataframe tbody tr th {\n",
              "        vertical-align: top;\n",
              "    }\n",
              "\n",
              "    .dataframe thead th {\n",
              "        text-align: right;\n",
              "    }\n",
              "</style>\n",
              "<table border=\"1\" class=\"dataframe\">\n",
              "  <thead>\n",
              "    <tr style=\"text-align: right;\">\n",
              "      <th></th>\n",
              "      <th>Target</th>\n",
              "      <th>Count</th>\n",
              "      <th>percent</th>\n",
              "    </tr>\n",
              "  </thead>\n",
              "  <tbody>\n",
              "    <tr>\n",
              "      <th>0</th>\n",
              "      <td>0</td>\n",
              "      <td>284315</td>\n",
              "      <td>99.83</td>\n",
              "    </tr>\n",
              "    <tr>\n",
              "      <th>1</th>\n",
              "      <td>1</td>\n",
              "      <td>492</td>\n",
              "      <td>0.17</td>\n",
              "    </tr>\n",
              "  </tbody>\n",
              "</table>\n",
              "</div>"
            ],
            "text/plain": [
              "   Target   Count  percent\n",
              "0       0  284315    99.83\n",
              "1       1     492     0.17"
            ]
          },
          "metadata": {
            "tags": []
          },
          "execution_count": 12
        }
      ]
    },
    {
      "cell_type": "markdown",
      "metadata": {
        "id": "yRTnrt1Lk1Mc",
        "colab_type": "text"
      },
      "source": [
        "The dataset is highly unbalanced, the frauds account for 0.17% of all transactions."
      ]
    },
    {
      "cell_type": "markdown",
      "metadata": {
        "id": "Y3zwss-id5_A",
        "colab_type": "text"
      },
      "source": [
        "Only Time and Amount have not been transformed with PCA. Time contains the seconds elapsed between each transaction and the first transaction in the dataset. Lets transofrm this feature into hours to get a better understanding."
      ]
    },
    {
      "cell_type": "code",
      "metadata": {
        "id": "hu0f-0E1uZBq",
        "colab_type": "code",
        "outputId": "a8ac5273-f160-4667-f78c-08cbb5e8368a",
        "colab": {
          "base_uri": "https://localhost:8080/",
          "height": 611
        }
      },
      "source": [
        "# Disibution of time\n",
        "#\n",
        "fig = sns.distplot(df['Time'], kde=False, color=\"maroon\")\n",
        "plt.xlabel('Time')\n",
        "plt.ylabel('Number of Transactions')\n",
        "plt.show()\n"
      ],
      "execution_count": 0,
      "outputs": [
        {
          "output_type": "display_data",
          "data": {
            "image/png": "[encoded data removed]",
            "text/plain": [
              "<Figure size 936x720 with 1 Axes>"
            ]
          },
          "metadata": {
            "tags": []
          }
        }
      ]
    },
    {
      "cell_type": "code",
      "metadata": {
        "id": "PszKowdNd8wv",
        "colab_type": "code",
        "colab": {}
      },
      "source": [
        "# Feature Engineering\n",
        "\n",
        "# Converting time to hours\n",
        "#\n",
        "timedelta = pd.to_timedelta(df['Time'], unit='s')\n",
        "df['Time_hour'] = (timedelta.dt.components.hours).astype(int)\n"
      ],
      "execution_count": 0,
      "outputs": []
    },
    {
      "cell_type": "code",
      "metadata": {
        "id": "7yhwgIBIeG-Y",
        "colab_type": "code",
        "outputId": "7617c748-e3bc-4b09-c5a8-24e2593f0b26",
        "colab": {
          "base_uri": "https://localhost:8080/",
          "height": 631
        }
      },
      "source": [
        "# plotting our transactions per hour\n",
        "#\n",
        "sns.distplot(df[df['Class'] == 0][\"Time_hour\"], color='b')\n",
        "sns.distplot(df[df['Class'] == 1][\"Time_hour\"], color='g')\n",
        "plt.title('Fraud and Normal Transactions by Hours', fontsize=17)\n",
        "plt.xlim([-1,25])\n",
        "plt.show()"
      ],
      "execution_count": 0,
      "outputs": [
        {
          "output_type": "display_data",
          "data": {
            "image/png": "[encoded data removed]",
            "text/plain": [
              "<Figure size 936x720 with 1 Axes>"
            ]
          },
          "metadata": {
            "tags": []
          }
        }
      ]
    },
    {
      "cell_type": "markdown",
      "metadata": {
        "id": "CTCWIuGBe_PC",
        "colab_type": "text"
      },
      "source": [
        "We see that the hour of day had some impact on number or fraud cases. Most fraudulent transaction happened between hours 10 and 13."
      ]
    },
    {
      "cell_type": "code",
      "metadata": {
        "id": "gTtDFdtturo6",
        "colab_type": "code",
        "outputId": "38395695-7ee5-452b-e1cd-a60d35527f68",
        "colab": {
          "base_uri": "https://localhost:8080/",
          "height": 611
        }
      },
      "source": [
        "# Distribution of amount\n",
        "#\n",
        "fig = sns.violinplot(x=df[\"Amount\"], color=\"lightblue\")\n",
        "plt.show()"
      ],
      "execution_count": 0,
      "outputs": [
        {
          "output_type": "display_data",
          "data": {
            "image/png": "[encoded data removed]",
            "text/plain": [
              "<Figure size 936x720 with 1 Axes>"
            ]
          },
          "metadata": {
            "tags": []
          }
        }
      ]
    },
    {
      "cell_type": "code",
      "metadata": {
        "id": "f9yHFJ-ukcpW",
        "colab_type": "code",
        "outputId": "b91f7a7a-21ab-453c-e037-21d6c28b9d74",
        "colab": {
          "base_uri": "https://localhost:8080/",
          "height": 611
        }
      },
      "source": [
        "# plotting the distribution for both amount and time \n",
        "\n",
        "fig, ax = plt.subplots(1, 2)\n",
        "\n",
        "amount_val = df['Amount'].values\n",
        "time_val = df['Time'].values\n",
        "\n",
        "sns.distplot(amount_val, ax=ax[0], color='r')\n",
        "ax[0].set_title('Distribution of Transaction Amount', fontsize=14)\n",
        "ax[0].set_xlim([min(amount_val), max(amount_val)])\n",
        "\n",
        "sns.distplot(time_val, ax=ax[1], color='g')\n",
        "ax[1].set_title('Distribution of Transaction Time', fontsize=14)\n",
        "ax[1].set_xlim([min(time_val), max(time_val)])\n",
        "\n",
        "\n",
        "\n",
        "plt.show()"
      ],
      "execution_count": 0,
      "outputs": [
        {
          "output_type": "display_data",
          "data": {
            "image/png": "[encoded data removed]",
            "text/plain": [
              "<Figure size 936x720 with 2 Axes>"
            ]
          },
          "metadata": {
            "tags": []
          }
        }
      ]
    },
    {
      "cell_type": "code",
      "metadata": {
        "id": "5nnRToniXGDK",
        "colab_type": "code",
        "colab": {}
      },
      "source": [
        "# Seperating the fraud transactions to the normal transactions\n",
        "#\n",
        "Fraud = df[df['Class']==1]\n",
        "\n",
        "Normal = df[df['Class']==0]"
      ],
      "execution_count": 0,
      "outputs": []
    },
    {
      "cell_type": "code",
      "metadata": {
        "id": "rELQPlwNgeCr",
        "colab_type": "code",
        "outputId": "142d9154-77f8-4397-8b0a-361c51c782f5",
        "colab": {
          "base_uri": "https://localhost:8080/",
          "height": 247
        }
      },
      "source": [
        "#Group by Time\n",
        "Fraud.groupby('Time')['Time'].count().sort_values(ascending=False)"
      ],
      "execution_count": 0,
      "outputs": [
        {
          "output_type": "execute_result",
          "data": {
            "text/plain": [
              "Time\n",
              "68207.0     6\n",
              "93879.0     4\n",
              "84204.0     4\n",
              "85285.0     4\n",
              "93860.0     4\n",
              "           ..\n",
              "102480.0    1\n",
              "102489.0    1\n",
              "102542.0    1\n",
              "102572.0    1\n",
              "406.0       1\n",
              "Name: Time, Length: 468, dtype: int64"
            ]
          },
          "metadata": {
            "tags": []
          },
          "execution_count": 19
        }
      ]
    },
    {
      "cell_type": "code",
      "metadata": {
        "id": "6UzyQC6kmdBi",
        "colab_type": "code",
        "outputId": "6586437e-97de-4787-ce1f-e8b006661fb3",
        "colab": {
          "base_uri": "https://localhost:8080/",
          "height": 247
        }
      },
      "source": [
        "#Group by Time\n",
        "Normal.groupby('Time')['Time'].count().sort_values(ascending=False)"
      ],
      "execution_count": 0,
      "outputs": [
        {
          "output_type": "execute_result",
          "data": {
            "text/plain": [
              "Time\n",
              "163152.0    36\n",
              "64947.0     26\n",
              "68780.0     25\n",
              "3767.0      21\n",
              "3770.0      20\n",
              "            ..\n",
              "92555.0      1\n",
              "92554.0      1\n",
              "92550.0      1\n",
              "92548.0      1\n",
              "86123.0      1\n",
              "Name: Time, Length: 124479, dtype: int64"
            ]
          },
          "metadata": {
            "tags": []
          },
          "execution_count": 20
        }
      ]
    },
    {
      "cell_type": "code",
      "metadata": {
        "id": "-HscX8F9n0J-",
        "colab_type": "code",
        "outputId": "54b92433-d739-40f9-c857-2c49ff99a876",
        "colab": {
          "base_uri": "https://localhost:8080/",
          "height": 247
        }
      },
      "source": [
        "#Group by Amount\n",
        "Fraud.groupby('Amount')['Amount'].count().sort_values(ascending=False)"
      ],
      "execution_count": 0,
      "outputs": [
        {
          "output_type": "execute_result",
          "data": {
            "text/plain": [
              "Amount\n",
              "1.00      113\n",
              "0.00       27\n",
              "99.99      27\n",
              "0.76       17\n",
              "0.77       10\n",
              "         ... \n",
              "170.92      1\n",
              "156.00      1\n",
              "153.46      1\n",
              "147.87      1\n",
              "88.00       1\n",
              "Name: Amount, Length: 259, dtype: int64"
            ]
          },
          "metadata": {
            "tags": []
          },
          "execution_count": 21
        }
      ]
    },
    {
      "cell_type": "code",
      "metadata": {
        "id": "OZ76m6gooEGB",
        "colab_type": "code",
        "outputId": "914f8f7c-4a65-4641-9794-2492317b2035",
        "colab": {
          "base_uri": "https://localhost:8080/",
          "height": 247
        }
      },
      "source": [
        "#Group by Amount\n",
        "Normal.groupby('Amount')['Amount'].count().sort_values(ascending=False)"
      ],
      "execution_count": 0,
      "outputs": [
        {
          "output_type": "execute_result",
          "data": {
            "text/plain": [
              "Amount\n",
              "1.00        13575\n",
              "1.98         6044\n",
              "0.89         4872\n",
              "9.99         4746\n",
              "15.00        3280\n",
              "            ...  \n",
              "321.23          1\n",
              "321.25          1\n",
              "321.26          1\n",
              "123.59          1\n",
              "25691.16        1\n",
              "Name: Amount, Length: 32701, dtype: int64"
            ]
          },
          "metadata": {
            "tags": []
          },
          "execution_count": 22
        }
      ]
    },
    {
      "cell_type": "code",
      "metadata": {
        "id": "9wgCgu49XX0m",
        "colab_type": "code",
        "outputId": "7c0b10d7-ec4a-48a4-c73c-630f34926fa5",
        "colab": {
          "base_uri": "https://localhost:8080/",
          "height": 683
        }
      },
      "source": [
        "# Transaction amounts per fraud or not fraud classes\n",
        "\n",
        "f, (ax1, ax2) = plt.subplots(2, 1, sharex=True)\n",
        "f.suptitle('Amount per transaction by class')\n",
        "ax1.hist(df[df['Class']==1]['Amount'], bins = 50)\n",
        "ax1.set_title('Fraud')\n",
        "ax2.hist(df[df['Class']==0]['Amount'], bins = 50)\n",
        "ax2.set_title('Normal')\n",
        "plt.xlabel('Amount ($)')\n",
        "plt.ylabel('Number of Transactions')\n",
        "plt.xlim((0, 20000))\n",
        "plt.yscale('log')\n",
        "plt.show();\n"
      ],
      "execution_count": 0,
      "outputs": [
        {
          "output_type": "display_data",
          "data": {
            "image/png": "[encoded data removed]",
            "text/plain": [
              "<Figure size 936x720 with 2 Axes>"
            ]
          },
          "metadata": {
            "tags": []
          }
        }
      ]
    },
    {
      "cell_type": "code",
      "metadata": {
        "id": "lF3_4mm1wE3z",
        "colab_type": "code",
        "outputId": "4dd52fb4-48d5-4b21-d6e8-43d33a2b45c7",
        "colab": {
          "base_uri": "https://localhost:8080/",
          "height": 1000
        }
      },
      "source": [
        "# ploting a histogram for our variables\n",
        "\n",
        "df.hist(figsize=(20,20), color = \"green\")\n",
        "plt.show()"
      ],
      "execution_count": 0,
      "outputs": [
        {
          "output_type": "stream",
          "text": [
            "/usr/local/lib/python3.6/dist-packages/pandas/plotting/_matplotlib/tools.py:307: MatplotlibDeprecationWarning: \n",
            "The rowNum attribute was deprecated in Matplotlib 3.2 and will be removed two minor releases later. Use ax.get_subplotspec().rowspan.start instead.\n",
            "  layout[ax.rowNum, ax.colNum] = ax.get_visible()\n",
            "/usr/local/lib/python3.6/dist-packages/pandas/plotting/_matplotlib/tools.py:307: MatplotlibDeprecationWarning: \n",
            "The colNum attribute was deprecated in Matplotlib 3.2 and will be removed two minor releases later. Use ax.get_subplotspec().colspan.start instead.\n",
            "  layout[ax.rowNum, ax.colNum] = ax.get_visible()\n",
            "/usr/local/lib/python3.6/dist-packages/pandas/plotting/_matplotlib/tools.py:313: MatplotlibDeprecationWarning: \n",
            "The rowNum attribute was deprecated in Matplotlib 3.2 and will be removed two minor releases later. Use ax.get_subplotspec().rowspan.start instead.\n",
            "  if not layout[ax.rowNum + 1, ax.colNum]:\n",
            "/usr/local/lib/python3.6/dist-packages/pandas/plotting/_matplotlib/tools.py:313: MatplotlibDeprecationWarning: \n",
            "The colNum attribute was deprecated in Matplotlib 3.2 and will be removed two minor releases later. Use ax.get_subplotspec().colspan.start instead.\n",
            "  if not layout[ax.rowNum + 1, ax.colNum]:\n"
          ],
          "name": "stderr"
        },
        {
          "output_type": "display_data",
          "data": {
            "image/png": "[encoded data removed]",
            "text/plain": [
              "<Figure size 1440x1440 with 36 Axes>"
            ]
          },
          "metadata": {
            "tags": []
          }
        }
      ]
    },
    {
      "cell_type": "code",
      "metadata": {
        "id": "fSz17TjZz_-A",
        "colab_type": "code",
        "outputId": "cb7da9b3-3d9a-4e79-d9af-04da66a413c5",
        "colab": {
          "base_uri": "https://localhost:8080/",
          "height": 645
        }
      },
      "source": [
        "# Correlation matrix\n",
        "correlation_matrix = df.corr()\n",
        "sns.heatmap(correlation_matrix,vmax=0.8,square = True)\n",
        "plt.show()"
      ],
      "execution_count": 0,
      "outputs": [
        {
          "output_type": "display_data",
          "data": {
            "image/png": "[encoded data removed]",
            "text/plain": [
              "<Figure size 936x720 with 2 Axes>"
            ]
          },
          "metadata": {
            "tags": []
          }
        }
      ]
    },
    {
      "cell_type": "markdown",
      "metadata": {
        "id": "Ftc7w0dO0W36",
        "colab_type": "text"
      },
      "source": [
        "The above correlation matrix shows that none of the V1 to V28 PCA components have any correlation to each other however if we observe Class has some form positive and negative correlations with the V components but has no correlation with Time and Amount.\n",
        "\n"
      ]
    },
    {
      "cell_type": "markdown",
      "metadata": {
        "id": "vTbdjSrhVIiT",
        "colab_type": "text"
      },
      "source": [
        "## 7. Implementing the Solution"
      ]
    },
    {
      "cell_type": "markdown",
      "metadata": {
        "id": "cPc-DE7JSpAc",
        "colab_type": "text"
      },
      "source": [
        "## K-means"
      ]
    },
    {
      "cell_type": "code",
      "metadata": {
        "id": "PJLZaRzJXJ3w",
        "colab_type": "code",
        "colab": {}
      },
      "source": [
        "# Implementing the Solution\n",
        "# Removing the class label\n",
        "# Dependent Variable\n",
        "class_label = df['Class']\n",
        "\n",
        "# Independent Variables\n",
        "df_features = df.drop(['Class'], axis=1)\n",
        "df_features.head()\n",
        "\n",
        "# Determine Number Of Fraud Cases In DataSet\n",
        "Fraud = df[df['Class'] == 1]\n",
        "Valid = df[df['Class'] == 0]\n"
      ],
      "execution_count": 0,
      "outputs": []
    },
    {
      "cell_type": "markdown",
      "metadata": {
        "id": "NfqdbrT1jEwu",
        "colab_type": "text"
      },
      "source": [
        "Determine optimal number of K clusters using Elbow method used.\n",
        "Train multiple models using a different number of clusters and storing the value of the intertia_ property every time."
      ]
    },
    {
      "cell_type": "code",
      "metadata": {
        "id": "NSWfwDXEUlp7",
        "colab_type": "code",
        "outputId": "b852d3ce-398f-4c3e-f69a-7ceb509b78c4",
        "colab": {
          "base_uri": "https://localhost:8080/",
          "height": 387
        }
      },
      "source": [
        "# Using Elbow method to determine number of clusters we will use\n",
        "from sklearn.cluster import KMeans\n",
        "\n",
        "wcss = []\n",
        "for i in range(1, 11):\n",
        "    kmeans = KMeans(n_clusters=i, init='k-means++', max_iter=300, n_init=10, random_state=15)\n",
        "    kmeans.fit(df_features)\n",
        "    wcss.append(kmeans.inertia_)\n",
        "plt.plot(range(1, 11), wcss)\n",
        "plt.title('Elbow Method')\n",
        "plt.xlabel('Number of clusters')\n",
        "plt.ylabel('WCSS')\n",
        "plt.show()"
      ],
      "execution_count": 0,
      "outputs": [
        {
          "output_type": "error",
          "ename": "ValueError",
          "evalue": "ignored",
          "traceback": [
            "\u001b[0;31m---------------------------------------------------------------------------\u001b[0m",
            "\u001b[0;31mValueError\u001b[0m                                Traceback (most recent call last)",
            "\u001b[0;32m<ipython-input-23-d041b380f604>\u001b[0m in \u001b[0;36m<module>\u001b[0;34m()\u001b[0m\n\u001b[1;32m      4\u001b[0m \u001b[0;32mfor\u001b[0m \u001b[0mi\u001b[0m \u001b[0;32min\u001b[0m \u001b[0mrange\u001b[0m\u001b[0;34m(\u001b[0m\u001b[0;36m1\u001b[0m\u001b[0;34m,\u001b[0m \u001b[0;36m11\u001b[0m\u001b[0;34m)\u001b[0m\u001b[0;34m:\u001b[0m\u001b[0;34m\u001b[0m\u001b[0;34m\u001b[0m\u001b[0m\n\u001b[1;32m      5\u001b[0m     \u001b[0mkmeans\u001b[0m \u001b[0;34m=\u001b[0m \u001b[0mKMeans\u001b[0m\u001b[0;34m(\u001b[0m\u001b[0mn_clusters\u001b[0m\u001b[0;34m=\u001b[0m\u001b[0mi\u001b[0m\u001b[0;34m,\u001b[0m \u001b[0minit\u001b[0m\u001b[0;34m=\u001b[0m\u001b[0;34m'k-means++'\u001b[0m\u001b[0;34m,\u001b[0m \u001b[0mmax_iter\u001b[0m\u001b[0;34m=\u001b[0m\u001b[0;36m300\u001b[0m\u001b[0;34m,\u001b[0m \u001b[0mn_init\u001b[0m\u001b[0;34m=\u001b[0m\u001b[0;36m10\u001b[0m\u001b[0;34m,\u001b[0m \u001b[0mrandom_state\u001b[0m\u001b[0;34m=\u001b[0m\u001b[0;36m15\u001b[0m\u001b[0;34m)\u001b[0m\u001b[0;34m\u001b[0m\u001b[0;34m\u001b[0m\u001b[0m\n\u001b[0;32m----> 6\u001b[0;31m     \u001b[0mkmeans\u001b[0m\u001b[0;34m.\u001b[0m\u001b[0mfit\u001b[0m\u001b[0;34m(\u001b[0m\u001b[0mdf_features\u001b[0m\u001b[0;34m)\u001b[0m\u001b[0;34m\u001b[0m\u001b[0;34m\u001b[0m\u001b[0m\n\u001b[0m\u001b[1;32m      7\u001b[0m     \u001b[0mwcss\u001b[0m\u001b[0;34m.\u001b[0m\u001b[0mappend\u001b[0m\u001b[0;34m(\u001b[0m\u001b[0mkmeans\u001b[0m\u001b[0;34m.\u001b[0m\u001b[0minertia_\u001b[0m\u001b[0;34m)\u001b[0m\u001b[0;34m\u001b[0m\u001b[0;34m\u001b[0m\u001b[0m\n\u001b[1;32m      8\u001b[0m \u001b[0mplt\u001b[0m\u001b[0;34m.\u001b[0m\u001b[0mplot\u001b[0m\u001b[0;34m(\u001b[0m\u001b[0mrange\u001b[0m\u001b[0;34m(\u001b[0m\u001b[0;36m1\u001b[0m\u001b[0;34m,\u001b[0m \u001b[0;36m11\u001b[0m\u001b[0;34m)\u001b[0m\u001b[0;34m,\u001b[0m \u001b[0mwcss\u001b[0m\u001b[0;34m)\u001b[0m\u001b[0;34m\u001b[0m\u001b[0;34m\u001b[0m\u001b[0m\n",
            "\u001b[0;32m/usr/local/lib/python3.6/dist-packages/sklearn/cluster/_kmeans.py\u001b[0m in \u001b[0;36mfit\u001b[0;34m(self, X, y, sample_weight)\u001b[0m\n\u001b[1;32m    857\u001b[0m         \u001b[0morder\u001b[0m \u001b[0;34m=\u001b[0m \u001b[0;34m\"C\"\u001b[0m \u001b[0;32mif\u001b[0m \u001b[0mself\u001b[0m\u001b[0;34m.\u001b[0m\u001b[0mcopy_x\u001b[0m \u001b[0;32melse\u001b[0m \u001b[0;32mNone\u001b[0m\u001b[0;34m\u001b[0m\u001b[0;34m\u001b[0m\u001b[0m\n\u001b[1;32m    858\u001b[0m         X = check_array(X, accept_sparse='csr', dtype=[np.float64, np.float32],\n\u001b[0;32m--> 859\u001b[0;31m                         order=order, copy=self.copy_x)\n\u001b[0m\u001b[1;32m    860\u001b[0m         \u001b[0;31m# verify that the number of samples given is larger than k\u001b[0m\u001b[0;34m\u001b[0m\u001b[0;34m\u001b[0m\u001b[0;34m\u001b[0m\u001b[0m\n\u001b[1;32m    861\u001b[0m         \u001b[0;32mif\u001b[0m \u001b[0m_num_samples\u001b[0m\u001b[0;34m(\u001b[0m\u001b[0mX\u001b[0m\u001b[0;34m)\u001b[0m \u001b[0;34m<\u001b[0m \u001b[0mself\u001b[0m\u001b[0;34m.\u001b[0m\u001b[0mn_clusters\u001b[0m\u001b[0;34m:\u001b[0m\u001b[0;34m\u001b[0m\u001b[0;34m\u001b[0m\u001b[0m\n",
            "\u001b[0;32m/usr/local/lib/python3.6/dist-packages/sklearn/utils/validation.py\u001b[0m in \u001b[0;36mcheck_array\u001b[0;34m(array, accept_sparse, accept_large_sparse, dtype, order, copy, force_all_finite, ensure_2d, allow_nd, ensure_min_samples, ensure_min_features, warn_on_dtype, estimator)\u001b[0m\n\u001b[1;32m    576\u001b[0m         \u001b[0;32mif\u001b[0m \u001b[0mforce_all_finite\u001b[0m\u001b[0;34m:\u001b[0m\u001b[0;34m\u001b[0m\u001b[0;34m\u001b[0m\u001b[0m\n\u001b[1;32m    577\u001b[0m             _assert_all_finite(array,\n\u001b[0;32m--> 578\u001b[0;31m                                allow_nan=force_all_finite == 'allow-nan')\n\u001b[0m\u001b[1;32m    579\u001b[0m \u001b[0;34m\u001b[0m\u001b[0m\n\u001b[1;32m    580\u001b[0m     \u001b[0;32mif\u001b[0m \u001b[0mensure_min_samples\u001b[0m \u001b[0;34m>\u001b[0m \u001b[0;36m0\u001b[0m\u001b[0;34m:\u001b[0m\u001b[0;34m\u001b[0m\u001b[0;34m\u001b[0m\u001b[0m\n",
            "\u001b[0;32m/usr/local/lib/python3.6/dist-packages/sklearn/utils/validation.py\u001b[0m in \u001b[0;36m_assert_all_finite\u001b[0;34m(X, allow_nan, msg_dtype)\u001b[0m\n\u001b[1;32m     58\u001b[0m                     \u001b[0mmsg_err\u001b[0m\u001b[0;34m.\u001b[0m\u001b[0mformat\u001b[0m\u001b[0;34m\u001b[0m\u001b[0;34m\u001b[0m\u001b[0m\n\u001b[1;32m     59\u001b[0m                     (type_err,\n\u001b[0;32m---> 60\u001b[0;31m                      msg_dtype if msg_dtype is not None else X.dtype)\n\u001b[0m\u001b[1;32m     61\u001b[0m             )\n\u001b[1;32m     62\u001b[0m     \u001b[0;31m# for object dtype data, we only check for NaNs (GH-13254)\u001b[0m\u001b[0;34m\u001b[0m\u001b[0;34m\u001b[0m\u001b[0;34m\u001b[0m\u001b[0m\n",
            "\u001b[0;31mValueError\u001b[0m: Input contains NaN, infinity or a value too large for dtype('float64')."
          ]
        }
      ]
    },
    {
      "cell_type": "markdown",
      "metadata": {
        "id": "7Bdzk8UiVnmg",
        "colab_type": "text"
      },
      "source": [
        "We will use 2 clusters as the graph curves at value 2."
      ]
    },
    {
      "cell_type": "markdown",
      "metadata": {
        "id": "w2CxDelujNbH",
        "colab_type": "text"
      },
      "source": [
        "## Baseline KMeans Model"
      ]
    },
    {
      "cell_type": "code",
      "metadata": {
        "id": "pIKlZDAw9JK_",
        "colab_type": "code",
        "outputId": "3024ea99-d326-4069-c76e-cc36c6324c0c",
        "colab": {
          "base_uri": "https://localhost:8080/",
          "height": 387
        }
      },
      "source": [
        "# fitting our kmeans and plotting a scatter plot with the 2 clusters\n",
        "\n",
        "kmeans = KMeans(n_clusters=2, max_iter=600, algorithm = 'auto')\n",
        "pred_y = kmeans.fit_predict(df_features) #fit_predict\n",
        "\n",
        "#Categorize the data using the optimum number of clusters\n",
        "plt.scatter(df_features.iloc[:,0], df_features.iloc[:,1])\n",
        "plt.scatter(kmeans.cluster_centers_[:, 0], kmeans.cluster_centers_[:, 1], s=300, c='red')\n",
        "plt.show()"
      ],
      "execution_count": 0,
      "outputs": [
        {
          "output_type": "error",
          "ename": "ValueError",
          "evalue": "ignored",
          "traceback": [
            "\u001b[0;31m---------------------------------------------------------------------------\u001b[0m",
            "\u001b[0;31mValueError\u001b[0m                                Traceback (most recent call last)",
            "\u001b[0;32m<ipython-input-20-c8a8db63d8bf>\u001b[0m in \u001b[0;36m<module>\u001b[0;34m()\u001b[0m\n\u001b[1;32m      1\u001b[0m \u001b[0;34m\u001b[0m\u001b[0m\n\u001b[1;32m      2\u001b[0m \u001b[0mkmeans\u001b[0m \u001b[0;34m=\u001b[0m \u001b[0mKMeans\u001b[0m\u001b[0;34m(\u001b[0m\u001b[0mn_clusters\u001b[0m\u001b[0;34m=\u001b[0m\u001b[0;36m2\u001b[0m\u001b[0;34m,\u001b[0m \u001b[0mmax_iter\u001b[0m\u001b[0;34m=\u001b[0m\u001b[0;36m600\u001b[0m\u001b[0;34m,\u001b[0m \u001b[0malgorithm\u001b[0m \u001b[0;34m=\u001b[0m \u001b[0;34m'auto'\u001b[0m\u001b[0;34m)\u001b[0m\u001b[0;34m\u001b[0m\u001b[0;34m\u001b[0m\u001b[0m\n\u001b[0;32m----> 3\u001b[0;31m \u001b[0mpred_y\u001b[0m \u001b[0;34m=\u001b[0m \u001b[0mkmeans\u001b[0m\u001b[0;34m.\u001b[0m\u001b[0mfit_predict\u001b[0m\u001b[0;34m(\u001b[0m\u001b[0mdf_features\u001b[0m\u001b[0;34m)\u001b[0m \u001b[0;31m#fit_predict\u001b[0m\u001b[0;34m\u001b[0m\u001b[0;34m\u001b[0m\u001b[0m\n\u001b[0m\u001b[1;32m      4\u001b[0m \u001b[0;34m\u001b[0m\u001b[0m\n\u001b[1;32m      5\u001b[0m \u001b[0;31m#Categorize the data using the optimum number of clusters\u001b[0m\u001b[0;34m\u001b[0m\u001b[0;34m\u001b[0m\u001b[0;34m\u001b[0m\u001b[0m\n",
            "\u001b[0;32m/usr/local/lib/python3.6/dist-packages/sklearn/cluster/_kmeans.py\u001b[0m in \u001b[0;36mfit_predict\u001b[0;34m(self, X, y, sample_weight)\u001b[0m\n\u001b[1;32m   1006\u001b[0m             \u001b[0mIndex\u001b[0m \u001b[0mof\u001b[0m \u001b[0mthe\u001b[0m \u001b[0mcluster\u001b[0m \u001b[0meach\u001b[0m \u001b[0msample\u001b[0m \u001b[0mbelongs\u001b[0m \u001b[0mto\u001b[0m\u001b[0;34m.\u001b[0m\u001b[0;34m\u001b[0m\u001b[0;34m\u001b[0m\u001b[0m\n\u001b[1;32m   1007\u001b[0m         \"\"\"\n\u001b[0;32m-> 1008\u001b[0;31m         \u001b[0;32mreturn\u001b[0m \u001b[0mself\u001b[0m\u001b[0;34m.\u001b[0m\u001b[0mfit\u001b[0m\u001b[0;34m(\u001b[0m\u001b[0mX\u001b[0m\u001b[0;34m,\u001b[0m \u001b[0msample_weight\u001b[0m\u001b[0;34m=\u001b[0m\u001b[0msample_weight\u001b[0m\u001b[0;34m)\u001b[0m\u001b[0;34m.\u001b[0m\u001b[0mlabels_\u001b[0m\u001b[0;34m\u001b[0m\u001b[0;34m\u001b[0m\u001b[0m\n\u001b[0m\u001b[1;32m   1009\u001b[0m \u001b[0;34m\u001b[0m\u001b[0m\n\u001b[1;32m   1010\u001b[0m     \u001b[0;32mdef\u001b[0m \u001b[0mfit_transform\u001b[0m\u001b[0;34m(\u001b[0m\u001b[0mself\u001b[0m\u001b[0;34m,\u001b[0m \u001b[0mX\u001b[0m\u001b[0;34m,\u001b[0m \u001b[0my\u001b[0m\u001b[0;34m=\u001b[0m\u001b[0;32mNone\u001b[0m\u001b[0;34m,\u001b[0m \u001b[0msample_weight\u001b[0m\u001b[0;34m=\u001b[0m\u001b[0;32mNone\u001b[0m\u001b[0;34m)\u001b[0m\u001b[0;34m:\u001b[0m\u001b[0;34m\u001b[0m\u001b[0;34m\u001b[0m\u001b[0m\n",
            "\u001b[0;32m/usr/local/lib/python3.6/dist-packages/sklearn/cluster/_kmeans.py\u001b[0m in \u001b[0;36mfit\u001b[0;34m(self, X, y, sample_weight)\u001b[0m\n\u001b[1;32m    857\u001b[0m         \u001b[0morder\u001b[0m \u001b[0;34m=\u001b[0m \u001b[0;34m\"C\"\u001b[0m \u001b[0;32mif\u001b[0m \u001b[0mself\u001b[0m\u001b[0;34m.\u001b[0m\u001b[0mcopy_x\u001b[0m \u001b[0;32melse\u001b[0m \u001b[0;32mNone\u001b[0m\u001b[0;34m\u001b[0m\u001b[0;34m\u001b[0m\u001b[0m\n\u001b[1;32m    858\u001b[0m         X = check_array(X, accept_sparse='csr', dtype=[np.float64, np.float32],\n\u001b[0;32m--> 859\u001b[0;31m                         order=order, copy=self.copy_x)\n\u001b[0m\u001b[1;32m    860\u001b[0m         \u001b[0;31m# verify that the number of samples given is larger than k\u001b[0m\u001b[0;34m\u001b[0m\u001b[0;34m\u001b[0m\u001b[0;34m\u001b[0m\u001b[0m\n\u001b[1;32m    861\u001b[0m         \u001b[0;32mif\u001b[0m \u001b[0m_num_samples\u001b[0m\u001b[0;34m(\u001b[0m\u001b[0mX\u001b[0m\u001b[0;34m)\u001b[0m \u001b[0;34m<\u001b[0m \u001b[0mself\u001b[0m\u001b[0;34m.\u001b[0m\u001b[0mn_clusters\u001b[0m\u001b[0;34m:\u001b[0m\u001b[0;34m\u001b[0m\u001b[0;34m\u001b[0m\u001b[0m\n",
            "\u001b[0;32m/usr/local/lib/python3.6/dist-packages/sklearn/utils/validation.py\u001b[0m in \u001b[0;36mcheck_array\u001b[0;34m(array, accept_sparse, accept_large_sparse, dtype, order, copy, force_all_finite, ensure_2d, allow_nd, ensure_min_samples, ensure_min_features, warn_on_dtype, estimator)\u001b[0m\n\u001b[1;32m    576\u001b[0m         \u001b[0;32mif\u001b[0m \u001b[0mforce_all_finite\u001b[0m\u001b[0;34m:\u001b[0m\u001b[0;34m\u001b[0m\u001b[0;34m\u001b[0m\u001b[0m\n\u001b[1;32m    577\u001b[0m             _assert_all_finite(array,\n\u001b[0;32m--> 578\u001b[0;31m                                allow_nan=force_all_finite == 'allow-nan')\n\u001b[0m\u001b[1;32m    579\u001b[0m \u001b[0;34m\u001b[0m\u001b[0m\n\u001b[1;32m    580\u001b[0m     \u001b[0;32mif\u001b[0m \u001b[0mensure_min_samples\u001b[0m \u001b[0;34m>\u001b[0m \u001b[0;36m0\u001b[0m\u001b[0;34m:\u001b[0m\u001b[0;34m\u001b[0m\u001b[0;34m\u001b[0m\u001b[0m\n",
            "\u001b[0;32m/usr/local/lib/python3.6/dist-packages/sklearn/utils/validation.py\u001b[0m in \u001b[0;36m_assert_all_finite\u001b[0;34m(X, allow_nan, msg_dtype)\u001b[0m\n\u001b[1;32m     58\u001b[0m                     \u001b[0mmsg_err\u001b[0m\u001b[0;34m.\u001b[0m\u001b[0mformat\u001b[0m\u001b[0;34m\u001b[0m\u001b[0;34m\u001b[0m\u001b[0m\n\u001b[1;32m     59\u001b[0m                     (type_err,\n\u001b[0;32m---> 60\u001b[0;31m                      msg_dtype if msg_dtype is not None else X.dtype)\n\u001b[0m\u001b[1;32m     61\u001b[0m             )\n\u001b[1;32m     62\u001b[0m     \u001b[0;31m# for object dtype data, we only check for NaNs (GH-13254)\u001b[0m\u001b[0;34m\u001b[0m\u001b[0;34m\u001b[0m\u001b[0;34m\u001b[0m\u001b[0m\n",
            "\u001b[0;31mValueError\u001b[0m: Input contains NaN, infinity or a value too large for dtype('float64')."
          ]
        }
      ]
    },
    {
      "cell_type": "code",
      "metadata": {
        "id": "NnaGLdd4EMUG",
        "colab_type": "code",
        "outputId": "b020c338-bcd4-4ad0-a73c-c84291509ded",
        "colab": {
          "base_uri": "https://localhost:8080/",
          "height": 645
        }
      },
      "source": [
        "#Calculate correct prediction\n",
        "correct = 0\n",
        "for i in range(len(class_label)):\n",
        "    if pred_y[i] == class_label[i] and pred_y[i] ==1:\n",
        "        correct += 1\n",
        "print(\"Correct: \", correct, \" Fraud\", len(Fraud))\n",
        "print(correct/len(Fraud))\n",
        "\n",
        "\n",
        "#plt.subplot(1, 2, 1)\n",
        "plt.scatter(X.iloc[:,0], X.iloc[:,1])\n",
        "plt.title('Sepal Length vs Sepal Width')\n",
        "plt.legend(handles=[red_patch, green_patch])\n"
      ],
      "execution_count": 0,
      "outputs": [
        {
          "output_type": "stream",
          "text": [
            "ERROR! Session/line number was not unique in database. History logging moved to new session 59\n"
          ],
          "name": "stdout"
        },
        {
          "output_type": "execute_result",
          "data": {
            "text/plain": [
              "<matplotlib.legend.Legend at 0x7f54549761d0>"
            ]
          },
          "metadata": {
            "tags": []
          },
          "execution_count": 43
        },
        {
          "output_type": "display_data",
          "data": {
            "image/png": "[encoded data removed]",
            "text/plain": [
              "<Figure size 936x720 with 1 Axes>"
            ]
          },
          "metadata": {
            "tags": []
          }
        }
      ]
    },
    {
      "cell_type": "code",
      "metadata": {
        "id": "NtmobtVp-fOH",
        "colab_type": "code",
        "outputId": "4bcc0ebd-a7ff-4564-b813-6c8cfbbb18b8",
        "colab": {
          "base_uri": "https://localhost:8080/",
          "height": 34
        }
      },
      "source": [
        "#Calculate correct prediction\n",
        "correct = 0\n",
        "for i in range(len(y)):\n",
        "    if pred_y[i] == y[i]:\n",
        "        correct += 1\n",
        "\n",
        "print(correct/len(y))"
      ],
      "execution_count": 0,
      "outputs": [
        {
          "output_type": "stream",
          "text": [
            "0.4628116584213169\n"
          ],
          "name": "stdout"
        }
      ]
    },
    {
      "cell_type": "code",
      "metadata": {
        "id": "1tzz4ybc-sya",
        "colab_type": "code",
        "colab": {}
      },
      "source": [
        "# normaizing our data\n",
        "\n",
        "from sklearn.model_selection import train_test_split\n",
        "from sklearn.preprocessing import normalize\n",
        "\n",
        "# Split the data into train set and test set\n",
        "train,test = train_test_split(df,test_size=0.3,random_state=20)\n",
        "\n",
        "# Get the arrays of features and labels in train dataset\n",
        "X_train = train.drop(['Time','Class'],axis=1)\n",
        "X_train = X_train.values\n",
        "y_train = pd.DataFrame(train[['Class']])\n",
        "y_train = y_train.values\n",
        "\n",
        "# Get the arrays of features and labels in test dataset\n",
        "X_test = test.drop(['Time','Class'],axis=1)\n",
        "X_test = X_test.values\n",
        "y_test = pd.DataFrame(test[[\"Class\"]])\n",
        "y_test = y_test.values\n",
        "\n",
        "# Normalize the features in both train and test dataset\n",
        "X_train = normalize(X_train)\n",
        "X_test = normalize(X_test)"
      ],
      "execution_count": 0,
      "outputs": []
    },
    {
      "cell_type": "code",
      "metadata": {
        "id": "wdx00avg_If7",
        "colab_type": "code",
        "colab": {}
      },
      "source": [
        "kmeans=KMeans(n_clusters=2,random_state=20,algorithm=\"elkan\",max_iter=10000,n_jobs=-1)\n",
        "kmeans.fit(df.loc[:, df.columns != 'Class'])\n",
        "X_train_normal = kmeans.cluster_centers_\n"
      ],
      "execution_count": 0,
      "outputs": []
    },
    {
      "cell_type": "code",
      "metadata": {
        "id": "K77yLdz7LBf9",
        "colab_type": "code",
        "outputId": "e4546298-98cf-482c-f665-b6cec1755c10",
        "colab": {
          "base_uri": "https://localhost:8080/",
          "height": 34
        }
      },
      "source": [
        "kmeans = KMeans(n_clusters = 2)\n",
        "kmeans.fit(X)\n",
        "y_kmeans = kmeans.predict(X)\n",
        "y_kmeans"
      ],
      "execution_count": 0,
      "outputs": [
        {
          "output_type": "execute_result",
          "data": {
            "text/plain": [
              "array([0, 0, 0, ..., 1, 1, 1], dtype=int32)"
            ]
          },
          "metadata": {
            "tags": []
          },
          "execution_count": 44
        }
      ]
    },
    {
      "cell_type": "code",
      "metadata": {
        "id": "eRnnr6Nf_aJk",
        "colab_type": "code",
        "outputId": "ee64ab3c-424d-4835-c302-9af4fe844705",
        "colab": {
          "base_uri": "https://localhost:8080/",
          "height": 34
        }
      },
      "source": [
        "from sklearn.cluster import KMeans\n",
        "from sklearn.metrics import confusion_matrix\n",
        "\n",
        "model = KMeans(n_clusters=2,random_state=0)\n",
        "model.fit(X_train)\n",
        "y_train_predicted = model.predict(X_train)\n",
        "y_test_predicted = model.predict(X_test)\n",
        "\n",
        "# Decide if model predicted label is aligned with true label \n",
        "true_negative,false_positive,false_negative,true_positive = confusion_matrix(y_train,y_train_predicted).ravel()\n",
        "reassignflag = true_negative + true_positive < false_positive + false_negative\n",
        "print(reassignflag)\n",
        "\n",
        "\n",
        "y_test_predicted = 1- y_test_predicted"
      ],
      "execution_count": 0,
      "outputs": [
        {
          "output_type": "stream",
          "text": [
            "True\n"
          ],
          "name": "stdout"
        }
      ]
    },
    {
      "cell_type": "code",
      "metadata": {
        "id": "fZrS8mZa_zmu",
        "colab_type": "code",
        "outputId": "ea4ccbf2-135d-4f21-8419-a64843dc5c0f",
        "colab": {
          "base_uri": "https://localhost:8080/",
          "height": 141
        }
      },
      "source": [
        "from sklearn.metrics import confusion_matrix, precision_score, recall_score, accuracy_score,f1_score\n",
        "# Calculating confusion matrix for kmeans\n",
        "print('Confusion Matrix:\\n',confusion_matrix(y_test,y_test_predicted))\n",
        "\n",
        "# Scoring kmeans\n",
        "\n",
        "print('kmeans_precison_score:', precision_score(y_test,y_test_predicted))\n",
        "print('kmeans_recall_score:', recall_score(y_test,y_test_predicted))\n",
        "print('kmeans_accuracy_score:', accuracy_score(y_test,y_test_predicted))\n",
        "print('kmeans_f1_score:',f1_score(y_test,y_test_predicted))"
      ],
      "execution_count": 0,
      "outputs": [
        {
          "output_type": "stream",
          "text": [
            "Confusion Matrix:\n",
            " [[51109 34198]\n",
            " [   70    66]]\n",
            "kmeans_precison_score: 0.0019262199392948867\n",
            "kmeans_recall_score: 0.4852941176470588\n",
            "kmeans_accuracy_score: 0.598937303231394\n",
            "kmeans_f1_score: 0.0038372093023255815\n"
          ],
          "name": "stdout"
        }
      ]
    },
    {
      "cell_type": "markdown",
      "metadata": {
        "id": "lQ2G4ZPDVOXE",
        "colab_type": "text"
      },
      "source": [
        "## 8. Challenging the solution"
      ]
    },
    {
      "cell_type": "markdown",
      "metadata": {
        "id": "jWVGKGuiYMWg",
        "colab_type": "text"
      },
      "source": [
        "> The easy solution is nice because it is, well, easy, but you should never allow those results to hold the day. You should always be thinking of ways to challenge the results, especially if those results comport with your prior expectation.\n",
        "\n",
        "\n",
        "\n",
        "\n"
      ]
    },
    {
      "cell_type": "code",
      "metadata": {
        "id": "j3x3SXZ4XT_L",
        "colab_type": "code",
        "colab": {}
      },
      "source": [
        "# Reviewing the Solution \n",
        "#"
      ],
      "execution_count": 0,
      "outputs": []
    },
    {
      "cell_type": "markdown",
      "metadata": {
        "id": "xrmHVMVsVS--",
        "colab_type": "text"
      },
      "source": [
        "## 9. Follow up questions"
      ]
    },
    {
      "cell_type": "markdown",
      "metadata": {
        "id": "pth2qSWhuBIy",
        "colab_type": "text"
      },
      "source": [
        "> At this point, we can refine our question or collect new data, all in an iterative process to get at the truth.\n",
        "\n"
      ]
    },
    {
      "cell_type": "markdown",
      "metadata": {
        "id": "HPQviDmNtta8",
        "colab_type": "text"
      },
      "source": [
        "### a). Did we have the right data?"
      ]
    },
    {
      "cell_type": "markdown",
      "metadata": {
        "id": "qjFHK1CKty7o",
        "colab_type": "text"
      },
      "source": [
        "### b). Do we need other data to answer our question?"
      ]
    },
    {
      "cell_type": "markdown",
      "metadata": {
        "id": "HSsicSdvt4Zs",
        "colab_type": "text"
      },
      "source": [
        "### c). Did we have the right question?"
      ]
    }
  ]
}